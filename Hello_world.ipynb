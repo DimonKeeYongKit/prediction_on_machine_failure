{
 "cells": [
  {
   "cell_type": "markdown",
   "metadata": {},
   "source": [
    "# Business understanding"
   ]
  },
  {
   "cell_type": "markdown",
   "metadata": {},
   "source": [
    "Hotayi electronics is an electronic manufacturing company based in Malaysia that provides such services like designing, assembling, and testing which are high value added services and started in 1992. In electronic manufacturing companies, machine downtime and failure are the essential concerns for the company. It leads to customer attrition where it might directly affect the revenues and image of the company.  In order to prevent that, Hotayi electronics would like to do prediction on machine failure, to reduce machine downtime and to optimize machine operations. \n",
    "\n",
    "Over these years, Hotayi electronics had accumulated many technical expertise and experiences in manufacturing core strengths, this helped Hotayi electronics  to become a leading solution manufacturing provider which was able to meet and exceed the demands and requirements of customers in Quality, Cost and Delivery requirements. Hotayi Electronics strives to build a platform for talented people from different areas to gather, work together, learn together, grow together, and accomplish the impossible together.\n"
   ]
  },
  {
   "cell_type": "code",
   "execution_count": 1,
   "metadata": {},
   "outputs": [],
   "source": [
    "#library for file control\n",
    "from os import listdir, remove, rmdir\n",
    "\n",
    "#library for data visualization\n",
    "import pandas as pd\n",
    "from pandas.api.types import CategoricalDtype\n",
    "import time\n",
    "import matplotlib.pyplot as plt\n",
    "import seaborn as sns\n",
    "import numpy as np\n",
    "\n",
    "#preprocessing\n",
    "from imblearn.under_sampling import RandomUnderSampler\n",
    "from sklearn.model_selection import train_test_split\n",
    "from sklearn.model_selection import GridSearchCV\n",
    "from sklearn.preprocessing import LabelEncoder\n",
    "from sklearn import preprocessing\n",
    "\n",
    "#model\n",
    "import tensorflow as tf\n",
    "from tensorflow import keras\n",
    "from tensorflow.keras import layers\n",
    "from sklearn.ensemble import RandomForestClassifier\n",
    "from sklearn.naive_bayes import GaussianNB\n",
    "from sklearn.neighbors import KNeighborsClassifier\n",
    "from sklearn.model_selection import cross_val_score\n",
    "from sklearn.metrics import mean_squared_error, precision_score, recall_score, f1_score, accuracy_score, classification_report, confusion_matrix\n",
    "\n",
    "#deployment\n",
    "import pickle\n"
   ]
  },
  {
   "cell_type": "markdown",
   "metadata": {},
   "source": [
    "# Merge dataset"
   ]
  },
  {
   "cell_type": "markdown",
   "metadata": {},
   "source": [
    "#### Convert all sub file into single file"
   ]
  },
  {
   "cell_type": "code",
   "execution_count": 2,
   "metadata": {},
   "outputs": [],
   "source": [
    "def merge_into_single_file(folder):\n",
    "    data_list = []\n",
    "    for fold in folder:\n",
    "        print(\"Start loading this file:\",fold)\n",
    "        file = listdir(fold)\n",
    "        for f in file:\n",
    "            data = pd.read_csv(fold+'/'+f)\n",
    "            data_list.append(data)\n",
    "            remove(fold+'/'+f)\n",
    "        df = pd.concat(data_list, ignore_index=True)\n",
    "        df.sort_values(by='Time')\n",
    "        df.to_csv(fold+'/'+\"data.csv\", index = False, header=True)\n",
    "        data_list = []\n",
    "        print(\"Done convert the file:\"+fold)\n",
    "        \n",
    "    print(\"All done!\")"
   ]
  },
  {
   "cell_type": "markdown",
   "metadata": {},
   "source": [
    "#### get all folder path"
   ]
  },
  {
   "cell_type": "code",
   "execution_count": 3,
   "metadata": {},
   "outputs": [],
   "source": [
    "def my_folder(my_path):\n",
    "    #load the list of first round file name\n",
    "    first_round_folder = listdir(my_path)\n",
    "    \n",
    "    #load the list of second round file name\n",
    "    second_folder_list = []\n",
    "    for first_folder in first_round_folder:\n",
    "        second_folder = listdir(my_path + first_folder)\n",
    "        for folder in second_folder:\n",
    "            second_folder_list.append(my_path + first_folder+ \"/\" + folder)\n",
    "    \n",
    "    return second_folder_list#merge all file in the folder       \n"
   ]
  },
  {
   "cell_type": "markdown",
   "metadata": {},
   "source": [
    "### read file"
   ]
  },
  {
   "cell_type": "code",
   "execution_count": 4,
   "metadata": {},
   "outputs": [],
   "source": [
    "#read all file\n",
    "def read_all_file(folder):\n",
    "    data_list = []\n",
    "    for fold in folder:\n",
    "        data = pd.read_csv(fold+\"/data.csv\")\n",
    "        data_list.append(data)\n",
    "        \n",
    "    df = pd.concat(data_list, ignore_index=True)\n",
    "    return df"
   ]
  },
  {
   "cell_type": "markdown",
   "metadata": {},
   "source": [
    "# Data Understanding"
   ]
  },
  {
   "cell_type": "markdown",
   "metadata": {},
   "source": [
    "In this project, we are using data provided by Hotayi Electronic with around 28 files that contain data in total of  around 200 thousands with 13 columns. Since the given data is not that large as we expected, we decided to merge all data csv files into one file per folder in order to save the time cost of reading the data. The merged file contains a number of data, in exact amount is 232,043."
   ]
  },
  {
   "cell_type": "code",
   "execution_count": 5,
   "metadata": {},
   "outputs": [
    {
     "data": {
      "text/html": [
       "<div>\n",
       "<style scoped>\n",
       "    .dataframe tbody tr th:only-of-type {\n",
       "        vertical-align: middle;\n",
       "    }\n",
       "\n",
       "    .dataframe tbody tr th {\n",
       "        vertical-align: top;\n",
       "    }\n",
       "\n",
       "    .dataframe thead th {\n",
       "        text-align: right;\n",
       "    }\n",
       "</style>\n",
       "<table border=\"1\" class=\"dataframe\">\n",
       "  <thead>\n",
       "    <tr style=\"text-align: right;\">\n",
       "      <th></th>\n",
       "      <th>Part</th>\n",
       "      <th>IC 2D</th>\n",
       "      <th>Lot</th>\n",
       "      <th>Date</th>\n",
       "      <th>Time</th>\n",
       "      <th>Machine</th>\n",
       "      <th>Server result</th>\n",
       "      <th>Machine result</th>\n",
       "      <th>(um)Point1</th>\n",
       "      <th>(um)Point2</th>\n",
       "      <th>(um)Point3</th>\n",
       "      <th>(um)Point4</th>\n",
       "      <th>Unnamed: 12</th>\n",
       "      <th>Unnamed: 9</th>\n",
       "      <th>Unnamed: 10</th>\n",
       "      <th>(um)Point5</th>\n",
       "      <th>Unnamed: 13</th>\n",
       "    </tr>\n",
       "  </thead>\n",
       "  <tbody>\n",
       "    <tr>\n",
       "      <th>0</th>\n",
       "      <td>791-00529</td>\n",
       "      <td>1</td>\n",
       "      <td>P 8 7</td>\n",
       "      <td>2021-01-04</td>\n",
       "      <td>07:33:02</td>\n",
       "      <td>PA05-1901</td>\n",
       "      <td>OK</td>\n",
       "      <td>OK</td>\n",
       "      <td>24.6</td>\n",
       "      <td>16.9</td>\n",
       "      <td>-19.8</td>\n",
       "      <td>41.4</td>\n",
       "      <td>NaN</td>\n",
       "      <td>NaN</td>\n",
       "      <td>NaN</td>\n",
       "      <td>NaN</td>\n",
       "      <td>NaN</td>\n",
       "    </tr>\n",
       "    <tr>\n",
       "      <th>1</th>\n",
       "      <td>791-00529</td>\n",
       "      <td>1</td>\n",
       "      <td>P 8 7</td>\n",
       "      <td>2021-01-04</td>\n",
       "      <td>09:14:34</td>\n",
       "      <td>PA05-1901</td>\n",
       "      <td>OK</td>\n",
       "      <td>OK</td>\n",
       "      <td>9.1</td>\n",
       "      <td>5.9</td>\n",
       "      <td>-26.3</td>\n",
       "      <td>15.3</td>\n",
       "      <td>NaN</td>\n",
       "      <td>NaN</td>\n",
       "      <td>NaN</td>\n",
       "      <td>NaN</td>\n",
       "      <td>NaN</td>\n",
       "    </tr>\n",
       "    <tr>\n",
       "      <th>2</th>\n",
       "      <td>791-00529</td>\n",
       "      <td>1</td>\n",
       "      <td>P 8 7</td>\n",
       "      <td>2021-01-04</td>\n",
       "      <td>09:28:25</td>\n",
       "      <td>PA05-1901</td>\n",
       "      <td>OK</td>\n",
       "      <td>OK</td>\n",
       "      <td>59.6</td>\n",
       "      <td>32.3</td>\n",
       "      <td>19.0</td>\n",
       "      <td>89.8</td>\n",
       "      <td>NaN</td>\n",
       "      <td>NaN</td>\n",
       "      <td>NaN</td>\n",
       "      <td>NaN</td>\n",
       "      <td>NaN</td>\n",
       "    </tr>\n",
       "    <tr>\n",
       "      <th>3</th>\n",
       "      <td>791-00529</td>\n",
       "      <td>1</td>\n",
       "      <td>P 8 7</td>\n",
       "      <td>2021-01-04</td>\n",
       "      <td>22:42:38</td>\n",
       "      <td>PA05-1901</td>\n",
       "      <td>OK</td>\n",
       "      <td>OK</td>\n",
       "      <td>67.2</td>\n",
       "      <td>37.2</td>\n",
       "      <td>10.0</td>\n",
       "      <td>101.7</td>\n",
       "      <td>NaN</td>\n",
       "      <td>NaN</td>\n",
       "      <td>NaN</td>\n",
       "      <td>NaN</td>\n",
       "      <td>NaN</td>\n",
       "    </tr>\n",
       "    <tr>\n",
       "      <th>4</th>\n",
       "      <td>791-00529</td>\n",
       "      <td>10</td>\n",
       "      <td>P 8 7</td>\n",
       "      <td>2021-01-04</td>\n",
       "      <td>07:34:14</td>\n",
       "      <td>PA05-1901</td>\n",
       "      <td>OK</td>\n",
       "      <td>OK</td>\n",
       "      <td>-1.8</td>\n",
       "      <td>6.0</td>\n",
       "      <td>54.7</td>\n",
       "      <td>99.6</td>\n",
       "      <td>NaN</td>\n",
       "      <td>NaN</td>\n",
       "      <td>NaN</td>\n",
       "      <td>NaN</td>\n",
       "      <td>NaN</td>\n",
       "    </tr>\n",
       "  </tbody>\n",
       "</table>\n",
       "</div>"
      ],
      "text/plain": [
       "        Part IC 2D    Lot        Date      Time    Machine Server result  \\\n",
       "0  791-00529     1  P 8 7  2021-01-04  07:33:02  PA05-1901            OK   \n",
       "1  791-00529     1  P 8 7  2021-01-04  09:14:34  PA05-1901            OK   \n",
       "2  791-00529     1  P 8 7  2021-01-04  09:28:25  PA05-1901            OK   \n",
       "3  791-00529     1  P 8 7  2021-01-04  22:42:38  PA05-1901            OK   \n",
       "4  791-00529    10  P 8 7  2021-01-04  07:34:14  PA05-1901            OK   \n",
       "\n",
       "  Machine result  (um)Point1  (um)Point2  (um)Point3  (um)Point4  Unnamed: 12  \\\n",
       "0             OK        24.6        16.9       -19.8        41.4          NaN   \n",
       "1             OK         9.1         5.9       -26.3        15.3          NaN   \n",
       "2             OK        59.6        32.3        19.0        89.8          NaN   \n",
       "3             OK        67.2        37.2        10.0       101.7          NaN   \n",
       "4             OK        -1.8         6.0        54.7        99.6          NaN   \n",
       "\n",
       "   Unnamed: 9  Unnamed: 10  (um)Point5  Unnamed: 13  \n",
       "0         NaN          NaN         NaN          NaN  \n",
       "1         NaN          NaN         NaN          NaN  \n",
       "2         NaN          NaN         NaN          NaN  \n",
       "3         NaN          NaN         NaN          NaN  \n",
       "4         NaN          NaN         NaN          NaN  "
      ]
     },
     "execution_count": 5,
     "metadata": {},
     "output_type": "execute_result"
    }
   ],
   "source": [
    "#folder = my_folder('./Dataset/Result_MC1_2021_01/')\n",
    "#merge_into_single_file(folder)\n",
    "    \n",
    "\n",
    "folder = my_folder('./Dataset/Result_MC2_2021_01/')\n",
    "data_MC1 = read_all_file(folder)\n",
    "data_MC1.head()"
   ]
  },
  {
   "cell_type": "markdown",
   "metadata": {},
   "source": [
    "### Remove blank columns"
   ]
  },
  {
   "cell_type": "markdown",
   "metadata": {},
   "source": [
    "In the process of merging the csv files, it will auto generate some unnamed columns which actually provide nothing and not meant to be any information that is necessary. Therefore, those unnamed columns will be dropped before we prepare our data for the step. "
   ]
  },
  {
   "cell_type": "code",
   "execution_count": 6,
   "metadata": {},
   "outputs": [
    {
     "data": {
      "text/html": [
       "<div>\n",
       "<style scoped>\n",
       "    .dataframe tbody tr th:only-of-type {\n",
       "        vertical-align: middle;\n",
       "    }\n",
       "\n",
       "    .dataframe tbody tr th {\n",
       "        vertical-align: top;\n",
       "    }\n",
       "\n",
       "    .dataframe thead th {\n",
       "        text-align: right;\n",
       "    }\n",
       "</style>\n",
       "<table border=\"1\" class=\"dataframe\">\n",
       "  <thead>\n",
       "    <tr style=\"text-align: right;\">\n",
       "      <th></th>\n",
       "      <th>Part</th>\n",
       "      <th>IC 2D</th>\n",
       "      <th>Lot</th>\n",
       "      <th>Date</th>\n",
       "      <th>Time</th>\n",
       "      <th>Machine</th>\n",
       "      <th>Server result</th>\n",
       "      <th>Machine result</th>\n",
       "      <th>(um)Point1</th>\n",
       "      <th>(um)Point2</th>\n",
       "      <th>(um)Point3</th>\n",
       "      <th>(um)Point4</th>\n",
       "      <th>(um)Point5</th>\n",
       "    </tr>\n",
       "  </thead>\n",
       "  <tbody>\n",
       "    <tr>\n",
       "      <th>0</th>\n",
       "      <td>791-00529</td>\n",
       "      <td>1</td>\n",
       "      <td>P 8 7</td>\n",
       "      <td>2021-01-04</td>\n",
       "      <td>07:33:02</td>\n",
       "      <td>PA05-1901</td>\n",
       "      <td>OK</td>\n",
       "      <td>OK</td>\n",
       "      <td>24.6</td>\n",
       "      <td>16.9</td>\n",
       "      <td>-19.8</td>\n",
       "      <td>41.4</td>\n",
       "      <td>NaN</td>\n",
       "    </tr>\n",
       "    <tr>\n",
       "      <th>1</th>\n",
       "      <td>791-00529</td>\n",
       "      <td>1</td>\n",
       "      <td>P 8 7</td>\n",
       "      <td>2021-01-04</td>\n",
       "      <td>09:14:34</td>\n",
       "      <td>PA05-1901</td>\n",
       "      <td>OK</td>\n",
       "      <td>OK</td>\n",
       "      <td>9.1</td>\n",
       "      <td>5.9</td>\n",
       "      <td>-26.3</td>\n",
       "      <td>15.3</td>\n",
       "      <td>NaN</td>\n",
       "    </tr>\n",
       "    <tr>\n",
       "      <th>2</th>\n",
       "      <td>791-00529</td>\n",
       "      <td>1</td>\n",
       "      <td>P 8 7</td>\n",
       "      <td>2021-01-04</td>\n",
       "      <td>09:28:25</td>\n",
       "      <td>PA05-1901</td>\n",
       "      <td>OK</td>\n",
       "      <td>OK</td>\n",
       "      <td>59.6</td>\n",
       "      <td>32.3</td>\n",
       "      <td>19.0</td>\n",
       "      <td>89.8</td>\n",
       "      <td>NaN</td>\n",
       "    </tr>\n",
       "    <tr>\n",
       "      <th>3</th>\n",
       "      <td>791-00529</td>\n",
       "      <td>1</td>\n",
       "      <td>P 8 7</td>\n",
       "      <td>2021-01-04</td>\n",
       "      <td>22:42:38</td>\n",
       "      <td>PA05-1901</td>\n",
       "      <td>OK</td>\n",
       "      <td>OK</td>\n",
       "      <td>67.2</td>\n",
       "      <td>37.2</td>\n",
       "      <td>10.0</td>\n",
       "      <td>101.7</td>\n",
       "      <td>NaN</td>\n",
       "    </tr>\n",
       "    <tr>\n",
       "      <th>4</th>\n",
       "      <td>791-00529</td>\n",
       "      <td>10</td>\n",
       "      <td>P 8 7</td>\n",
       "      <td>2021-01-04</td>\n",
       "      <td>07:34:14</td>\n",
       "      <td>PA05-1901</td>\n",
       "      <td>OK</td>\n",
       "      <td>OK</td>\n",
       "      <td>-1.8</td>\n",
       "      <td>6.0</td>\n",
       "      <td>54.7</td>\n",
       "      <td>99.6</td>\n",
       "      <td>NaN</td>\n",
       "    </tr>\n",
       "    <tr>\n",
       "      <th>...</th>\n",
       "      <td>...</td>\n",
       "      <td>...</td>\n",
       "      <td>...</td>\n",
       "      <td>...</td>\n",
       "      <td>...</td>\n",
       "      <td>...</td>\n",
       "      <td>...</td>\n",
       "      <td>...</td>\n",
       "      <td>...</td>\n",
       "      <td>...</td>\n",
       "      <td>...</td>\n",
       "      <td>...</td>\n",
       "      <td>...</td>\n",
       "    </tr>\n",
       "    <tr>\n",
       "      <th>232038</th>\n",
       "      <td>21312</td>\n",
       "      <td>4679</td>\n",
       "      <td>213123</td>\n",
       "      <td>2021-01-31</td>\n",
       "      <td>06:47:05</td>\n",
       "      <td>PA05-1901</td>\n",
       "      <td>OK</td>\n",
       "      <td>OK</td>\n",
       "      <td>11.3</td>\n",
       "      <td>8.6</td>\n",
       "      <td>54.0</td>\n",
       "      <td>9.2</td>\n",
       "      <td>34.9</td>\n",
       "    </tr>\n",
       "    <tr>\n",
       "      <th>232039</th>\n",
       "      <td>21312</td>\n",
       "      <td>4680</td>\n",
       "      <td>213123</td>\n",
       "      <td>2021-01-31</td>\n",
       "      <td>06:47:05</td>\n",
       "      <td>PA05-1901</td>\n",
       "      <td>OK</td>\n",
       "      <td>OK</td>\n",
       "      <td>17.9</td>\n",
       "      <td>6.7</td>\n",
       "      <td>78.8</td>\n",
       "      <td>18.0</td>\n",
       "      <td>20.0</td>\n",
       "    </tr>\n",
       "    <tr>\n",
       "      <th>232040</th>\n",
       "      <td>21312</td>\n",
       "      <td>4681</td>\n",
       "      <td>213123</td>\n",
       "      <td>2021-01-31</td>\n",
       "      <td>06:47:05</td>\n",
       "      <td>PA05-1901</td>\n",
       "      <td>OK</td>\n",
       "      <td>OK</td>\n",
       "      <td>14.1</td>\n",
       "      <td>8.7</td>\n",
       "      <td>54.6</td>\n",
       "      <td>14.3</td>\n",
       "      <td>20.6</td>\n",
       "    </tr>\n",
       "    <tr>\n",
       "      <th>232041</th>\n",
       "      <td>21312</td>\n",
       "      <td>4682</td>\n",
       "      <td>213123</td>\n",
       "      <td>2021-01-31</td>\n",
       "      <td>06:47:05</td>\n",
       "      <td>PA05-1901</td>\n",
       "      <td>OK</td>\n",
       "      <td>OK</td>\n",
       "      <td>6.1</td>\n",
       "      <td>12.8</td>\n",
       "      <td>49.4</td>\n",
       "      <td>21.5</td>\n",
       "      <td>22.1</td>\n",
       "    </tr>\n",
       "    <tr>\n",
       "      <th>232042</th>\n",
       "      <td>21312</td>\n",
       "      <td>4683</td>\n",
       "      <td>213123</td>\n",
       "      <td>2021-01-31</td>\n",
       "      <td>06:47:05</td>\n",
       "      <td>PA05-1901</td>\n",
       "      <td>OK</td>\n",
       "      <td>OK</td>\n",
       "      <td>6.3</td>\n",
       "      <td>9.8</td>\n",
       "      <td>56.4</td>\n",
       "      <td>26.2</td>\n",
       "      <td>35.7</td>\n",
       "    </tr>\n",
       "  </tbody>\n",
       "</table>\n",
       "<p>232043 rows × 13 columns</p>\n",
       "</div>"
      ],
      "text/plain": [
       "             Part IC 2D     Lot        Date      Time    Machine  \\\n",
       "0       791-00529     1   P 8 7  2021-01-04  07:33:02  PA05-1901   \n",
       "1       791-00529     1   P 8 7  2021-01-04  09:14:34  PA05-1901   \n",
       "2       791-00529     1   P 8 7  2021-01-04  09:28:25  PA05-1901   \n",
       "3       791-00529     1   P 8 7  2021-01-04  22:42:38  PA05-1901   \n",
       "4       791-00529    10   P 8 7  2021-01-04  07:34:14  PA05-1901   \n",
       "...           ...   ...     ...         ...       ...        ...   \n",
       "232038      21312  4679  213123  2021-01-31  06:47:05  PA05-1901   \n",
       "232039      21312  4680  213123  2021-01-31  06:47:05  PA05-1901   \n",
       "232040      21312  4681  213123  2021-01-31  06:47:05  PA05-1901   \n",
       "232041      21312  4682  213123  2021-01-31  06:47:05  PA05-1901   \n",
       "232042      21312  4683  213123  2021-01-31  06:47:05  PA05-1901   \n",
       "\n",
       "       Server result Machine result  (um)Point1  (um)Point2  (um)Point3  \\\n",
       "0                 OK             OK        24.6        16.9       -19.8   \n",
       "1                 OK             OK         9.1         5.9       -26.3   \n",
       "2                 OK             OK        59.6        32.3        19.0   \n",
       "3                 OK             OK        67.2        37.2        10.0   \n",
       "4                 OK             OK        -1.8         6.0        54.7   \n",
       "...              ...            ...         ...         ...         ...   \n",
       "232038            OK             OK        11.3         8.6        54.0   \n",
       "232039            OK             OK        17.9         6.7        78.8   \n",
       "232040            OK             OK        14.1         8.7        54.6   \n",
       "232041            OK             OK         6.1        12.8        49.4   \n",
       "232042            OK             OK         6.3         9.8        56.4   \n",
       "\n",
       "        (um)Point4  (um)Point5  \n",
       "0             41.4         NaN  \n",
       "1             15.3         NaN  \n",
       "2             89.8         NaN  \n",
       "3            101.7         NaN  \n",
       "4             99.6         NaN  \n",
       "...            ...         ...  \n",
       "232038         9.2        34.9  \n",
       "232039        18.0        20.0  \n",
       "232040        14.3        20.6  \n",
       "232041        21.5        22.1  \n",
       "232042        26.2        35.7  \n",
       "\n",
       "[232043 rows x 13 columns]"
      ]
     },
     "execution_count": 6,
     "metadata": {},
     "output_type": "execute_result"
    }
   ],
   "source": [
    "data_MC1 = data_MC1.drop(columns=['Unnamed: 12','Unnamed: 9','Unnamed: 10','Unnamed: 13'])\n",
    "data_MC1"
   ]
  },
  {
   "cell_type": "markdown",
   "metadata": {},
   "source": [
    "### Datatype understanding"
   ]
  },
  {
   "cell_type": "markdown",
   "metadata": {},
   "source": [
    "After we have adjusted the column, the data type for the remaining columns are int64, object and also float64 as in the diagram below."
   ]
  },
  {
   "cell_type": "code",
   "execution_count": 7,
   "metadata": {},
   "outputs": [
    {
     "name": "stdout",
     "output_type": "stream",
     "text": [
      "Data types:\n",
      "Part               object\n",
      "IC 2D              object\n",
      "Lot                object\n",
      "Date               object\n",
      "Time               object\n",
      "Machine            object\n",
      "Server result      object\n",
      "Machine result     object\n",
      "(um)Point1        float64\n",
      "(um)Point2        float64\n",
      "(um)Point3        float64\n",
      "(um)Point4        float64\n",
      "(um)Point5        float64\n",
      "dtype: object\n"
     ]
    }
   ],
   "source": [
    "print(\"Data types:\")\n",
    "print(data_MC1.dtypes)"
   ]
  },
  {
   "cell_type": "markdown",
   "metadata": {},
   "source": [
    "### Display all features of dataset"
   ]
  },
  {
   "cell_type": "markdown",
   "metadata": {},
   "source": [
    "In this project and the data provided by Hotayi, the most important and widely used are the Machine result as the main target whether it succeeds or not, (μm)Point 1-5 which is measured in micrometers(μm). Other columns which do not mention just now will be used when it is necessary such as date and time, etc. There are missing values for some features such as Point2, Point3, Point3, Point4 respectively 11898, 20628, 20628 and 227339. Not only that, there are also unique values for all features in the dataset."
   ]
  },
  {
   "cell_type": "code",
   "execution_count": 8,
   "metadata": {},
   "outputs": [
    {
     "name": "stdout",
     "output_type": "stream",
     "text": [
      "Total rows    : 232043\n",
      "Total columns : 13\n",
      "\n",
      "Features :\n",
      " ['Part', 'IC 2D', 'Lot', 'Date', 'Time', 'Machine', 'Server result', 'Machine result', '(um)Point1', '(um)Point2', '(um)Point3', '(um)Point4', '(um)Point5']\n",
      "\n",
      "Missing Values :\n",
      " Part                   0\n",
      "IC 2D                  0\n",
      "Lot                    0\n",
      "Date                   0\n",
      "Time                   0\n",
      "Machine                0\n",
      "Server result          0\n",
      "Machine result         0\n",
      "(um)Point1             0\n",
      "(um)Point2         11898\n",
      "(um)Point3         20628\n",
      "(um)Point4         20628\n",
      "(um)Point5        227339\n",
      "dtype: int64\n",
      "\n",
      "Unique values :\n",
      " Part                  5\n",
      "IC 2D             46498\n",
      "Lot                   5\n",
      "Date                 28\n",
      "Time              24317\n",
      "Machine               1\n",
      "Server result         1\n",
      "Machine result        2\n",
      "(um)Point1        13602\n",
      "(um)Point2        13405\n",
      "(um)Point3        12223\n",
      "(um)Point4        11214\n",
      "(um)Point5         1083\n",
      "dtype: int64\n"
     ]
    }
   ],
   "source": [
    "print(\"Total rows    :\",data_MC1.shape[0])\n",
    "print(\"Total columns :\",data_MC1.shape[1])\n",
    "print(\"\\nFeatures :\\n\",data_MC1.columns.tolist())\n",
    "print(\"\\nMissing Values :\\n\",data_MC1.isnull().sum())\n",
    "print(\"\\nUnique values :\\n\",data_MC1.nunique())"
   ]
  },
  {
   "cell_type": "markdown",
   "metadata": {},
   "source": [
    "### Showing sum of \"OK\" and \"NG\""
   ]
  },
  {
   "cell_type": "markdown",
   "metadata": {},
   "source": [
    "Shows the ‘Machine result’ column contains two unique results which are ‘NG’ and ‘OK’. There are 9,177 results of ‘NG’ and 222,866 results of ‘OK’. "
   ]
  },
  {
   "cell_type": "code",
   "execution_count": 9,
   "metadata": {},
   "outputs": [
    {
     "name": "stdout",
     "output_type": "stream",
     "text": [
      "['OK' 'NG']\n"
     ]
    },
    {
     "data": {
      "text/plain": [
       "OK    222866\n",
       "NG      9177\n",
       "Name: Machine result, dtype: int64"
      ]
     },
     "execution_count": 9,
     "metadata": {},
     "output_type": "execute_result"
    }
   ],
   "source": [
    "#to get the total number for 'OK' and 'NG'\n",
    "print(data_MC1['Machine result'].unique())\n",
    "data_MC1['Machine result'].value_counts()"
   ]
  },
  {
   "cell_type": "code",
   "execution_count": 10,
   "metadata": {},
   "outputs": [
    {
     "data": {
      "image/png": "[encoded data removed]",
      "text/plain": [
       "<Figure size 432x288 with 1 Axes>"
      ]
     },
     "metadata": {
      "needs_background": "light"
     },
     "output_type": "display_data"
    }
   ],
   "source": [
    "#barchart for Machine Result\n",
    "sns.countplot(x=\"Machine result\", data=data_MC1).set_title('Machine Result')\n",
    "plt.show()"
   ]
  },
  {
   "cell_type": "markdown",
   "metadata": {},
   "source": [
    "### Display the machine result on every date"
   ]
  },
  {
   "cell_type": "markdown",
   "metadata": {},
   "source": [
    "it indicates all the machine results either NG or Ok from time 2021-01-04 until 2021-01-31. In this diagram, it clearly shows that 2021-01-18 got the highest numbers of success of machines with around 16000 while the lowest number of ‘NG’ results of machines was about 12 ‘NG’ out of 1902 in 2021-01-10. We can conclude that in this month, the number of machines with ‘OK’ results are roughly 6000 to 8000."
   ]
  },
  {
   "cell_type": "code",
   "execution_count": 11,
   "metadata": {},
   "outputs": [
    {
     "data": {
      "text/plain": [
       "Date        Machine result\n",
       "2021-01-04  OK                 6778\n",
       "            NG                  159\n",
       "2021-01-05  OK                10640\n",
       "            NG                  154\n",
       "2021-01-06  OK                 1132\n",
       "            NG                  140\n",
       "2021-01-07  OK                 1855\n",
       "            NG                   59\n",
       "2021-01-08  OK                 4596\n",
       "            NG                   36\n",
       "2021-01-09  OK                 6892\n",
       "            NG                  736\n",
       "2021-01-10  OK                 1694\n",
       "            NG                  315\n",
       "2021-01-11  OK                 7346\n",
       "            NG                   70\n",
       "2021-01-12  OK                10138\n",
       "            NG                   14\n",
       "2021-01-13  OK                10761\n",
       "            NG                   75\n",
       "2021-01-14  OK                 9743\n",
       "            NG                   13\n",
       "2021-01-15  OK                 8522\n",
       "            NG                  658\n",
       "2021-01-16  OK                10404\n",
       "            NG                  360\n",
       "2021-01-17  OK                 3381\n",
       "            NG                   21\n",
       "2021-01-18  OK                 7515\n",
       "            NG                  327\n",
       "2021-01-19  OK                10459\n",
       "            NG                   24\n",
       "2021-01-20  OK                11872\n",
       "            NG                  441\n",
       "2021-01-21  OK                11916\n",
       "            NG                 1167\n",
       "2021-01-22  OK                12780\n",
       "            NG                 1822\n",
       "2021-01-23  OK                 8754\n",
       "            NG                  465\n",
       "2021-01-24  OK                 1940\n",
       "            NG                  300\n",
       "2021-01-25  OK                 8999\n",
       "            NG                  815\n",
       "2021-01-26  OK                11594\n",
       "            NG                  313\n",
       "2021-01-27  OK                11733\n",
       "            NG                   76\n",
       "2021-01-28  OK                11180\n",
       "            NG                  125\n",
       "2021-01-29  OK                 7991\n",
       "            NG                  199\n",
       "2021-01-30  OK                10484\n",
       "            NG                  219\n",
       "2021-01-31  OK                 1767\n",
       "            NG                   74\n",
       "Name: Machine result, dtype: int64"
      ]
     },
     "execution_count": 11,
     "metadata": {},
     "output_type": "execute_result"
    }
   ],
   "source": [
    "data_MC1.groupby(['Date'])[\"Machine result\"].value_counts()"
   ]
  },
  {
   "cell_type": "code",
   "execution_count": 12,
   "metadata": {},
   "outputs": [
    {
     "data": {
      "text/plain": [
       "<matplotlib.axes._subplots.AxesSubplot at 0x278df0e2408>"
      ]
     },
     "execution_count": 12,
     "metadata": {},
     "output_type": "execute_result"
    },
    {
     "data": {
      "image/png": "[encoded data removed]",
      "text/plain": [
       "<Figure size 1080x720 with 1 Axes>"
      ]
     },
     "metadata": {
      "needs_background": "light"
     },
     "output_type": "display_data"
    }
   ],
   "source": [
    "#display bar chart\n",
    "data_MC1.groupby([\"Date\"])[\"Machine result\"].value_counts().unstack().plot.bar(figsize=(15,10),fontsize = 12, width = 0.75)"
   ]
  },
  {
   "cell_type": "markdown",
   "metadata": {},
   "source": [
    "### Display the machine result on week day"
   ]
  },
  {
   "cell_type": "markdown",
   "metadata": {},
   "source": [
    "Show all the machine results from Monday to Sunday are either NG or OK. In this picture, it clearly shows that the highest number of machine results ‘OK’,42831 and the lowest number of machine results ‘NG’,505 obtained on Tuesday."
   ]
  },
  {
   "cell_type": "code",
   "execution_count": 13,
   "metadata": {},
   "outputs": [
    {
     "data": {
      "text/plain": [
       "Week_day   Machine result\n",
       "Monday     NG                 1371\n",
       "           OK                30638\n",
       "Tuesday    NG                  505\n",
       "           OK                42831\n",
       "Wednesday  NG                  732\n",
       "           OK                35498\n",
       "Thursday   NG                 1364\n",
       "           OK                34694\n",
       "Friday     NG                 2715\n",
       "           OK                33889\n",
       "Saturday   NG                 1780\n",
       "           OK                36534\n",
       "Sunday     NG                  710\n",
       "           OK                 8782\n",
       "dtype: int64"
      ]
     },
     "execution_count": 13,
     "metadata": {},
     "output_type": "execute_result"
    }
   ],
   "source": [
    "#determining the number of 'OK' and 'NG' for each days of a week\n",
    "data_MC1[\"Date\"]= pd.to_datetime(data_MC1[\"Date\"])\n",
    "\n",
    "sort = [ 'Monday', 'Tuesday', 'Wednesday', 'Thursday', 'Friday', 'Saturday', 'Sunday']\n",
    "sort_type = CategoricalDtype(categories=sort, ordered=True)\n",
    "\n",
    "data_MC1['Week_day'] = data_MC1['Date'].dt.day_name()\n",
    "data_MC1['Week_day'] = data_MC1['Week_day'].astype(sort_type)\n",
    "\n",
    "week = data_MC1.groupby(['Week_day', 'Machine result']).size()\n",
    "week"
   ]
  },
  {
   "cell_type": "code",
   "execution_count": 14,
   "metadata": {},
   "outputs": [
    {
     "data": {
      "text/plain": [
       "<matplotlib.axes._subplots.AxesSubplot at 0x278dfb59e48>"
      ]
     },
     "execution_count": 14,
     "metadata": {},
     "output_type": "execute_result"
    },
    {
     "data": {
      "image/png": "[encoded data removed]",
      "text/plain": [
       "<Figure size 1080x720 with 1 Axes>"
      ]
     },
     "metadata": {
      "needs_background": "light"
     },
     "output_type": "display_data"
    }
   ],
   "source": [
    "#display bar chart\n",
    "data_MC1.groupby([\"Week_day\"])[\"Machine result\"].value_counts().unstack().plot.bar(figsize=(15,10),fontsize = 12, width = 0.75)"
   ]
  },
  {
   "cell_type": "markdown",
   "metadata": {},
   "source": [
    "### Boxplot"
   ]
  },
  {
   "cell_type": "markdown",
   "metadata": {},
   "source": [
    "The box plot shows the median of the data on different features with a red line. The two ends of the box represent Quartile 1 (Q1) and Quartile 3 (Q3). The space of the box represents the Interquartile range of the entire feature data. The two lines outside the box respectively indicate the minimum score and the maximum score of the feature data. From the figure also can find out that there are some points, which represent the outliers."
   ]
  },
  {
   "cell_type": "code",
   "execution_count": 15,
   "metadata": {},
   "outputs": [
    {
     "name": "stderr",
     "output_type": "stream",
     "text": [
      "C:\\Users\\ProAdmin\\anaconda3\\lib\\site-packages\\numpy\\core\\_asarray.py:83: VisibleDeprecationWarning: Creating an ndarray from ragged nested sequences (which is a list-or-tuple of lists-or-tuples-or ndarrays with different lengths or shapes) is deprecated. If you meant to do this, you must specify 'dtype=object' when creating the ndarray\n",
      "  return array(a, dtype, copy=False, order=order)\n"
     ]
    },
    {
     "data": {
      "text/plain": [
       "<matplotlib.axes._subplots.AxesSubplot at 0x278e2dcd348>"
      ]
     },
     "execution_count": 15,
     "metadata": {},
     "output_type": "execute_result"
    },
    {
     "data": {
      "image/png": "[encoded data removed]",
      "text/plain": [
       "<Figure size 720x720 with 1 Axes>"
      ]
     },
     "metadata": {
      "needs_background": "light"
     },
     "output_type": "display_data"
    }
   ],
   "source": [
    "data_MC1.boxplot(column=['(um)Point1','(um)Point2','(um)Point3','(um)Point4','(um)Point5'], figsize=(10,10),color={'medians': 'red'})"
   ]
  },
  {
   "cell_type": "markdown",
   "metadata": {},
   "source": [
    "### Box plot on every (um)Point with machine result"
   ]
  },
  {
   "cell_type": "code",
   "execution_count": 16,
   "metadata": {},
   "outputs": [
    {
     "data": {
      "image/png": "[encoded data removed]",
      "text/plain": [
       "<Figure size 432x288 with 1 Axes>"
      ]
     },
     "metadata": {
      "needs_background": "light"
     },
     "output_type": "display_data"
    }
   ],
   "source": [
    "sns.boxplot(x='Machine result',y='(um)Point1',data=data_MC1)\n",
    "plt.tight_layout()\n",
    "plt.show()"
   ]
  },
  {
   "cell_type": "code",
   "execution_count": 17,
   "metadata": {},
   "outputs": [
    {
     "data": {
      "image/png": "[encoded data removed]",
      "text/plain": [
       "<Figure size 432x288 with 1 Axes>"
      ]
     },
     "metadata": {
      "needs_background": "light"
     },
     "output_type": "display_data"
    }
   ],
   "source": [
    "sns.boxplot(x='Machine result',y='(um)Point2',data=data_MC1)\n",
    "plt.tight_layout()\n",
    "plt.show()"
   ]
  },
  {
   "cell_type": "code",
   "execution_count": 18,
   "metadata": {},
   "outputs": [
    {
     "data": {
      "image/png": "[encoded data removed]",
      "text/plain": [
       "<Figure size 432x288 with 1 Axes>"
      ]
     },
     "metadata": {
      "needs_background": "light"
     },
     "output_type": "display_data"
    }
   ],
   "source": [
    "sns.boxplot(x='Machine result',y='(um)Point3',data=data_MC1)\n",
    "plt.tight_layout()\n",
    "plt.show()"
   ]
  },
  {
   "cell_type": "code",
   "execution_count": 19,
   "metadata": {},
   "outputs": [
    {
     "data": {
      "image/png": "[encoded data removed]",
      "text/plain": [
       "<Figure size 432x288 with 1 Axes>"
      ]
     },
     "metadata": {
      "needs_background": "light"
     },
     "output_type": "display_data"
    }
   ],
   "source": [
    "sns.boxplot(x='Machine result',y='(um)Point4',data=data_MC1)\n",
    "plt.tight_layout()\n",
    "plt.show()"
   ]
  },
  {
   "cell_type": "code",
   "execution_count": 20,
   "metadata": {},
   "outputs": [
    {
     "data": {
      "image/png": "[encoded data removed]",
      "text/plain": [
       "<Figure size 432x288 with 1 Axes>"
      ]
     },
     "metadata": {
      "needs_background": "light"
     },
     "output_type": "display_data"
    }
   ],
   "source": [
    "sns.boxplot(x='Machine result',y='(um)Point5',data=data_MC1)\n",
    "plt.tight_layout()\n",
    "plt.show()"
   ]
  },
  {
   "cell_type": "markdown",
   "metadata": {},
   "source": [
    "### Summary of statistics"
   ]
  },
  {
   "cell_type": "code",
   "execution_count": 21,
   "metadata": {},
   "outputs": [
    {
     "data": {
      "text/html": [
       "<div>\n",
       "<style scoped>\n",
       "    .dataframe tbody tr th:only-of-type {\n",
       "        vertical-align: middle;\n",
       "    }\n",
       "\n",
       "    .dataframe tbody tr th {\n",
       "        vertical-align: top;\n",
       "    }\n",
       "\n",
       "    .dataframe thead th {\n",
       "        text-align: right;\n",
       "    }\n",
       "</style>\n",
       "<table border=\"1\" class=\"dataframe\">\n",
       "  <thead>\n",
       "    <tr style=\"text-align: right;\">\n",
       "      <th></th>\n",
       "      <th>(um)Point1</th>\n",
       "      <th>(um)Point2</th>\n",
       "      <th>(um)Point3</th>\n",
       "      <th>(um)Point4</th>\n",
       "      <th>(um)Point5</th>\n",
       "    </tr>\n",
       "  </thead>\n",
       "  <tbody>\n",
       "    <tr>\n",
       "      <th>count</th>\n",
       "      <td>232043.000000</td>\n",
       "      <td>220145.000000</td>\n",
       "      <td>211415.000000</td>\n",
       "      <td>211415.000000</td>\n",
       "      <td>4704.000000</td>\n",
       "    </tr>\n",
       "    <tr>\n",
       "      <th>mean</th>\n",
       "      <td>-644.906859</td>\n",
       "      <td>-602.556153</td>\n",
       "      <td>-560.104696</td>\n",
       "      <td>-530.049983</td>\n",
       "      <td>24.599001</td>\n",
       "    </tr>\n",
       "    <tr>\n",
       "      <th>std</th>\n",
       "      <td>875.325612</td>\n",
       "      <td>859.571208</td>\n",
       "      <td>862.319208</td>\n",
       "      <td>853.196434</td>\n",
       "      <td>31.150911</td>\n",
       "    </tr>\n",
       "    <tr>\n",
       "      <th>min</th>\n",
       "      <td>-4069.500000</td>\n",
       "      <td>-4159.300000</td>\n",
       "      <td>-4207.700000</td>\n",
       "      <td>-4066.200000</td>\n",
       "      <td>-760.000000</td>\n",
       "    </tr>\n",
       "    <tr>\n",
       "      <th>25%</th>\n",
       "      <td>-1697.100000</td>\n",
       "      <td>-1699.700000</td>\n",
       "      <td>-1708.600000</td>\n",
       "      <td>-1692.000000</td>\n",
       "      <td>8.700000</td>\n",
       "    </tr>\n",
       "    <tr>\n",
       "      <th>50%</th>\n",
       "      <td>0.700000</td>\n",
       "      <td>-8.800000</td>\n",
       "      <td>-7.900000</td>\n",
       "      <td>9.600000</td>\n",
       "      <td>21.000000</td>\n",
       "    </tr>\n",
       "    <tr>\n",
       "      <th>75%</th>\n",
       "      <td>14.300000</td>\n",
       "      <td>8.000000</td>\n",
       "      <td>12.300000</td>\n",
       "      <td>50.000000</td>\n",
       "      <td>37.325000</td>\n",
       "    </tr>\n",
       "    <tr>\n",
       "      <th>max</th>\n",
       "      <td>2605.300000</td>\n",
       "      <td>2134.400000</td>\n",
       "      <td>3845.500000</td>\n",
       "      <td>2498.200000</td>\n",
       "      <td>335.600000</td>\n",
       "    </tr>\n",
       "  </tbody>\n",
       "</table>\n",
       "</div>"
      ],
      "text/plain": [
       "          (um)Point1     (um)Point2     (um)Point3     (um)Point4   (um)Point5\n",
       "count  232043.000000  220145.000000  211415.000000  211415.000000  4704.000000\n",
       "mean     -644.906859    -602.556153    -560.104696    -530.049983    24.599001\n",
       "std       875.325612     859.571208     862.319208     853.196434    31.150911\n",
       "min     -4069.500000   -4159.300000   -4207.700000   -4066.200000  -760.000000\n",
       "25%     -1697.100000   -1699.700000   -1708.600000   -1692.000000     8.700000\n",
       "50%         0.700000      -8.800000      -7.900000       9.600000    21.000000\n",
       "75%        14.300000       8.000000      12.300000      50.000000    37.325000\n",
       "max      2605.300000    2134.400000    3845.500000    2498.200000   335.600000"
      ]
     },
     "execution_count": 21,
     "metadata": {},
     "output_type": "execute_result"
    }
   ],
   "source": [
    "data_MC1[['(um)Point1','(um)Point2', '(um)Point3','(um)Point4','(um)Point5']].describe()"
   ]
  },
  {
   "cell_type": "markdown",
   "metadata": {},
   "source": [
    "### Correlation between columns"
   ]
  },
  {
   "cell_type": "code",
   "execution_count": 22,
   "metadata": {},
   "outputs": [
    {
     "data": {
      "text/html": [
       "<div>\n",
       "<style scoped>\n",
       "    .dataframe tbody tr th:only-of-type {\n",
       "        vertical-align: middle;\n",
       "    }\n",
       "\n",
       "    .dataframe tbody tr th {\n",
       "        vertical-align: top;\n",
       "    }\n",
       "\n",
       "    .dataframe thead th {\n",
       "        text-align: right;\n",
       "    }\n",
       "</style>\n",
       "<table border=\"1\" class=\"dataframe\">\n",
       "  <thead>\n",
       "    <tr style=\"text-align: right;\">\n",
       "      <th></th>\n",
       "      <th>(um)Point1</th>\n",
       "      <th>(um)Point2</th>\n",
       "      <th>(um)Point3</th>\n",
       "      <th>(um)Point4</th>\n",
       "      <th>(um)Point5</th>\n",
       "    </tr>\n",
       "  </thead>\n",
       "  <tbody>\n",
       "    <tr>\n",
       "      <th>(um)Point1</th>\n",
       "      <td>1.000000</td>\n",
       "      <td>0.983415</td>\n",
       "      <td>0.974408</td>\n",
       "      <td>0.977703</td>\n",
       "      <td>-0.024350</td>\n",
       "    </tr>\n",
       "    <tr>\n",
       "      <th>(um)Point2</th>\n",
       "      <td>0.983415</td>\n",
       "      <td>1.000000</td>\n",
       "      <td>0.976290</td>\n",
       "      <td>0.981081</td>\n",
       "      <td>-0.168653</td>\n",
       "    </tr>\n",
       "    <tr>\n",
       "      <th>(um)Point3</th>\n",
       "      <td>0.974408</td>\n",
       "      <td>0.976290</td>\n",
       "      <td>1.000000</td>\n",
       "      <td>0.989355</td>\n",
       "      <td>0.243948</td>\n",
       "    </tr>\n",
       "    <tr>\n",
       "      <th>(um)Point4</th>\n",
       "      <td>0.977703</td>\n",
       "      <td>0.981081</td>\n",
       "      <td>0.989355</td>\n",
       "      <td>1.000000</td>\n",
       "      <td>0.324892</td>\n",
       "    </tr>\n",
       "    <tr>\n",
       "      <th>(um)Point5</th>\n",
       "      <td>-0.024350</td>\n",
       "      <td>-0.168653</td>\n",
       "      <td>0.243948</td>\n",
       "      <td>0.324892</td>\n",
       "      <td>1.000000</td>\n",
       "    </tr>\n",
       "  </tbody>\n",
       "</table>\n",
       "</div>"
      ],
      "text/plain": [
       "            (um)Point1  (um)Point2  (um)Point3  (um)Point4  (um)Point5\n",
       "(um)Point1    1.000000    0.983415    0.974408    0.977703   -0.024350\n",
       "(um)Point2    0.983415    1.000000    0.976290    0.981081   -0.168653\n",
       "(um)Point3    0.974408    0.976290    1.000000    0.989355    0.243948\n",
       "(um)Point4    0.977703    0.981081    0.989355    1.000000    0.324892\n",
       "(um)Point5   -0.024350   -0.168653    0.243948    0.324892    1.000000"
      ]
     },
     "execution_count": 22,
     "metadata": {},
     "output_type": "execute_result"
    }
   ],
   "source": [
    "data_MC1[['(um)Point1','(um)Point2', '(um)Point3','(um)Point4','(um)Point5']].corr()"
   ]
  },
  {
   "cell_type": "code",
   "execution_count": 23,
   "metadata": {},
   "outputs": [
    {
     "data": {
      "text/plain": [
       "<matplotlib.axes._subplots.AxesSubplot at 0x278e2537208>"
      ]
     },
     "execution_count": 23,
     "metadata": {},
     "output_type": "execute_result"
    },
    {
     "data": {
      "image/png": "[encoded data removed]",
      "text/plain": [
       "<Figure size 432x288 with 2 Axes>"
      ]
     },
     "metadata": {
      "needs_background": "light"
     },
     "output_type": "display_data"
    }
   ],
   "source": [
    "sns.heatmap(data_MC1[['(um)Point1','(um)Point2', '(um)Point3','(um)Point4','(um)Point5']].corr())"
   ]
  },
  {
   "cell_type": "markdown",
   "metadata": {},
   "source": [
    "# Data Preparation"
   ]
  },
  {
   "cell_type": "markdown",
   "metadata": {},
   "source": [
    "### Step 1: Identifying Missing Values"
   ]
  },
  {
   "cell_type": "markdown",
   "metadata": {},
   "source": [
    "A heatmap is used to display the missing values found in each column. As we can observe from this heatmap, we can know that there are a few missing values in column (um)Point2, (um)Point3 and (um)Point4 but the highest amount of missing values in column (um)Point5."
   ]
  },
  {
   "cell_type": "code",
   "execution_count": 24,
   "metadata": {},
   "outputs": [
    {
     "data": {
      "image/png": "[encoded data removed]",
      "text/plain": [
       "<Figure size 432x288 with 2 Axes>"
      ]
     },
     "metadata": {
      "needs_background": "light"
     },
     "output_type": "display_data"
    }
   ],
   "source": [
    "sns.heatmap(data=data_MC1.isnull())\n",
    "plt.show()"
   ]
  },
  {
   "cell_type": "markdown",
   "metadata": {},
   "source": [
    "### Step 2: Drop useless columns"
   ]
  },
  {
   "cell_type": "markdown",
   "metadata": {},
   "source": [
    "After the process of data understanding, we can know that the data from (um)Point 1 to (um)Point 5 shows the event log of the machine during operation. In order to predict machine failures, these event log data are inevitable. The 'Week_day' data will be removed from the dataset after the Data Understanding Section. In addition, there is other data in the data set, such as Part, IC 2D, Lot, Date, Time, and Machine. These data have no direct relationship or help for training the machine to predict machine failures, so these data will be dropped. However, the server result will also be dropped because in the entire data set, the result consistently indicates \"OK\", so there is no need to include it in the data set for predicting machine failures."
   ]
  },
  {
   "cell_type": "code",
   "execution_count": 25,
   "metadata": {},
   "outputs": [
    {
     "data": {
      "text/html": [
       "<div>\n",
       "<style scoped>\n",
       "    .dataframe tbody tr th:only-of-type {\n",
       "        vertical-align: middle;\n",
       "    }\n",
       "\n",
       "    .dataframe tbody tr th {\n",
       "        vertical-align: top;\n",
       "    }\n",
       "\n",
       "    .dataframe thead th {\n",
       "        text-align: right;\n",
       "    }\n",
       "</style>\n",
       "<table border=\"1\" class=\"dataframe\">\n",
       "  <thead>\n",
       "    <tr style=\"text-align: right;\">\n",
       "      <th></th>\n",
       "      <th>Machine result</th>\n",
       "      <th>(um)Point1</th>\n",
       "      <th>(um)Point2</th>\n",
       "      <th>(um)Point3</th>\n",
       "      <th>(um)Point4</th>\n",
       "      <th>(um)Point5</th>\n",
       "    </tr>\n",
       "  </thead>\n",
       "  <tbody>\n",
       "    <tr>\n",
       "      <th>0</th>\n",
       "      <td>OK</td>\n",
       "      <td>24.6</td>\n",
       "      <td>16.9</td>\n",
       "      <td>-19.8</td>\n",
       "      <td>41.4</td>\n",
       "      <td>NaN</td>\n",
       "    </tr>\n",
       "    <tr>\n",
       "      <th>1</th>\n",
       "      <td>OK</td>\n",
       "      <td>9.1</td>\n",
       "      <td>5.9</td>\n",
       "      <td>-26.3</td>\n",
       "      <td>15.3</td>\n",
       "      <td>NaN</td>\n",
       "    </tr>\n",
       "    <tr>\n",
       "      <th>2</th>\n",
       "      <td>OK</td>\n",
       "      <td>59.6</td>\n",
       "      <td>32.3</td>\n",
       "      <td>19.0</td>\n",
       "      <td>89.8</td>\n",
       "      <td>NaN</td>\n",
       "    </tr>\n",
       "    <tr>\n",
       "      <th>3</th>\n",
       "      <td>OK</td>\n",
       "      <td>67.2</td>\n",
       "      <td>37.2</td>\n",
       "      <td>10.0</td>\n",
       "      <td>101.7</td>\n",
       "      <td>NaN</td>\n",
       "    </tr>\n",
       "    <tr>\n",
       "      <th>4</th>\n",
       "      <td>OK</td>\n",
       "      <td>-1.8</td>\n",
       "      <td>6.0</td>\n",
       "      <td>54.7</td>\n",
       "      <td>99.6</td>\n",
       "      <td>NaN</td>\n",
       "    </tr>\n",
       "    <tr>\n",
       "      <th>...</th>\n",
       "      <td>...</td>\n",
       "      <td>...</td>\n",
       "      <td>...</td>\n",
       "      <td>...</td>\n",
       "      <td>...</td>\n",
       "      <td>...</td>\n",
       "    </tr>\n",
       "    <tr>\n",
       "      <th>232038</th>\n",
       "      <td>OK</td>\n",
       "      <td>11.3</td>\n",
       "      <td>8.6</td>\n",
       "      <td>54.0</td>\n",
       "      <td>9.2</td>\n",
       "      <td>34.9</td>\n",
       "    </tr>\n",
       "    <tr>\n",
       "      <th>232039</th>\n",
       "      <td>OK</td>\n",
       "      <td>17.9</td>\n",
       "      <td>6.7</td>\n",
       "      <td>78.8</td>\n",
       "      <td>18.0</td>\n",
       "      <td>20.0</td>\n",
       "    </tr>\n",
       "    <tr>\n",
       "      <th>232040</th>\n",
       "      <td>OK</td>\n",
       "      <td>14.1</td>\n",
       "      <td>8.7</td>\n",
       "      <td>54.6</td>\n",
       "      <td>14.3</td>\n",
       "      <td>20.6</td>\n",
       "    </tr>\n",
       "    <tr>\n",
       "      <th>232041</th>\n",
       "      <td>OK</td>\n",
       "      <td>6.1</td>\n",
       "      <td>12.8</td>\n",
       "      <td>49.4</td>\n",
       "      <td>21.5</td>\n",
       "      <td>22.1</td>\n",
       "    </tr>\n",
       "    <tr>\n",
       "      <th>232042</th>\n",
       "      <td>OK</td>\n",
       "      <td>6.3</td>\n",
       "      <td>9.8</td>\n",
       "      <td>56.4</td>\n",
       "      <td>26.2</td>\n",
       "      <td>35.7</td>\n",
       "    </tr>\n",
       "  </tbody>\n",
       "</table>\n",
       "<p>232043 rows × 6 columns</p>\n",
       "</div>"
      ],
      "text/plain": [
       "       Machine result  (um)Point1  (um)Point2  (um)Point3  (um)Point4  \\\n",
       "0                  OK        24.6        16.9       -19.8        41.4   \n",
       "1                  OK         9.1         5.9       -26.3        15.3   \n",
       "2                  OK        59.6        32.3        19.0        89.8   \n",
       "3                  OK        67.2        37.2        10.0       101.7   \n",
       "4                  OK        -1.8         6.0        54.7        99.6   \n",
       "...               ...         ...         ...         ...         ...   \n",
       "232038             OK        11.3         8.6        54.0         9.2   \n",
       "232039             OK        17.9         6.7        78.8        18.0   \n",
       "232040             OK        14.1         8.7        54.6        14.3   \n",
       "232041             OK         6.1        12.8        49.4        21.5   \n",
       "232042             OK         6.3         9.8        56.4        26.2   \n",
       "\n",
       "        (um)Point5  \n",
       "0              NaN  \n",
       "1              NaN  \n",
       "2              NaN  \n",
       "3              NaN  \n",
       "4              NaN  \n",
       "...            ...  \n",
       "232038        34.9  \n",
       "232039        20.0  \n",
       "232040        20.6  \n",
       "232041        22.1  \n",
       "232042        35.7  \n",
       "\n",
       "[232043 rows x 6 columns]"
      ]
     },
     "execution_count": 25,
     "metadata": {},
     "output_type": "execute_result"
    }
   ],
   "source": [
    "data_MC1 = data_MC1.drop(['Week_day'], axis=1)\n",
    "\n",
    "data_MC1 = data_MC1.drop(columns=['Part','IC 2D', 'Lot', 'Date', 'Time', 'Machine', 'Server result'], axis=1)\n",
    "data_MC1"
   ]
  },
  {
   "cell_type": "markdown",
   "metadata": {},
   "source": [
    "In addition, The machine result will be encoded into 1 and 0 while 1 means \"OK\" and 0 means \"NG\" using the label encoder."
   ]
  },
  {
   "cell_type": "code",
   "execution_count": 26,
   "metadata": {},
   "outputs": [
    {
     "data": {
      "text/html": [
       "<div>\n",
       "<style scoped>\n",
       "    .dataframe tbody tr th:only-of-type {\n",
       "        vertical-align: middle;\n",
       "    }\n",
       "\n",
       "    .dataframe tbody tr th {\n",
       "        vertical-align: top;\n",
       "    }\n",
       "\n",
       "    .dataframe thead th {\n",
       "        text-align: right;\n",
       "    }\n",
       "</style>\n",
       "<table border=\"1\" class=\"dataframe\">\n",
       "  <thead>\n",
       "    <tr style=\"text-align: right;\">\n",
       "      <th></th>\n",
       "      <th>Machine result</th>\n",
       "      <th>(um)Point1</th>\n",
       "      <th>(um)Point2</th>\n",
       "      <th>(um)Point3</th>\n",
       "      <th>(um)Point4</th>\n",
       "      <th>(um)Point5</th>\n",
       "    </tr>\n",
       "  </thead>\n",
       "  <tbody>\n",
       "    <tr>\n",
       "      <th>0</th>\n",
       "      <td>1</td>\n",
       "      <td>24.6</td>\n",
       "      <td>16.9</td>\n",
       "      <td>-19.8</td>\n",
       "      <td>41.4</td>\n",
       "      <td>NaN</td>\n",
       "    </tr>\n",
       "    <tr>\n",
       "      <th>1</th>\n",
       "      <td>1</td>\n",
       "      <td>9.1</td>\n",
       "      <td>5.9</td>\n",
       "      <td>-26.3</td>\n",
       "      <td>15.3</td>\n",
       "      <td>NaN</td>\n",
       "    </tr>\n",
       "    <tr>\n",
       "      <th>2</th>\n",
       "      <td>1</td>\n",
       "      <td>59.6</td>\n",
       "      <td>32.3</td>\n",
       "      <td>19.0</td>\n",
       "      <td>89.8</td>\n",
       "      <td>NaN</td>\n",
       "    </tr>\n",
       "    <tr>\n",
       "      <th>3</th>\n",
       "      <td>1</td>\n",
       "      <td>67.2</td>\n",
       "      <td>37.2</td>\n",
       "      <td>10.0</td>\n",
       "      <td>101.7</td>\n",
       "      <td>NaN</td>\n",
       "    </tr>\n",
       "    <tr>\n",
       "      <th>4</th>\n",
       "      <td>1</td>\n",
       "      <td>-1.8</td>\n",
       "      <td>6.0</td>\n",
       "      <td>54.7</td>\n",
       "      <td>99.6</td>\n",
       "      <td>NaN</td>\n",
       "    </tr>\n",
       "    <tr>\n",
       "      <th>...</th>\n",
       "      <td>...</td>\n",
       "      <td>...</td>\n",
       "      <td>...</td>\n",
       "      <td>...</td>\n",
       "      <td>...</td>\n",
       "      <td>...</td>\n",
       "    </tr>\n",
       "    <tr>\n",
       "      <th>232038</th>\n",
       "      <td>1</td>\n",
       "      <td>11.3</td>\n",
       "      <td>8.6</td>\n",
       "      <td>54.0</td>\n",
       "      <td>9.2</td>\n",
       "      <td>34.9</td>\n",
       "    </tr>\n",
       "    <tr>\n",
       "      <th>232039</th>\n",
       "      <td>1</td>\n",
       "      <td>17.9</td>\n",
       "      <td>6.7</td>\n",
       "      <td>78.8</td>\n",
       "      <td>18.0</td>\n",
       "      <td>20.0</td>\n",
       "    </tr>\n",
       "    <tr>\n",
       "      <th>232040</th>\n",
       "      <td>1</td>\n",
       "      <td>14.1</td>\n",
       "      <td>8.7</td>\n",
       "      <td>54.6</td>\n",
       "      <td>14.3</td>\n",
       "      <td>20.6</td>\n",
       "    </tr>\n",
       "    <tr>\n",
       "      <th>232041</th>\n",
       "      <td>1</td>\n",
       "      <td>6.1</td>\n",
       "      <td>12.8</td>\n",
       "      <td>49.4</td>\n",
       "      <td>21.5</td>\n",
       "      <td>22.1</td>\n",
       "    </tr>\n",
       "    <tr>\n",
       "      <th>232042</th>\n",
       "      <td>1</td>\n",
       "      <td>6.3</td>\n",
       "      <td>9.8</td>\n",
       "      <td>56.4</td>\n",
       "      <td>26.2</td>\n",
       "      <td>35.7</td>\n",
       "    </tr>\n",
       "  </tbody>\n",
       "</table>\n",
       "<p>232043 rows × 6 columns</p>\n",
       "</div>"
      ],
      "text/plain": [
       "        Machine result  (um)Point1  (um)Point2  (um)Point3  (um)Point4  \\\n",
       "0                    1        24.6        16.9       -19.8        41.4   \n",
       "1                    1         9.1         5.9       -26.3        15.3   \n",
       "2                    1        59.6        32.3        19.0        89.8   \n",
       "3                    1        67.2        37.2        10.0       101.7   \n",
       "4                    1        -1.8         6.0        54.7        99.6   \n",
       "...                ...         ...         ...         ...         ...   \n",
       "232038               1        11.3         8.6        54.0         9.2   \n",
       "232039               1        17.9         6.7        78.8        18.0   \n",
       "232040               1        14.1         8.7        54.6        14.3   \n",
       "232041               1         6.1        12.8        49.4        21.5   \n",
       "232042               1         6.3         9.8        56.4        26.2   \n",
       "\n",
       "        (um)Point5  \n",
       "0              NaN  \n",
       "1              NaN  \n",
       "2              NaN  \n",
       "3              NaN  \n",
       "4              NaN  \n",
       "...            ...  \n",
       "232038        34.9  \n",
       "232039        20.0  \n",
       "232040        20.6  \n",
       "232041        22.1  \n",
       "232042        35.7  \n",
       "\n",
       "[232043 rows x 6 columns]"
      ]
     },
     "execution_count": 26,
     "metadata": {},
     "output_type": "execute_result"
    }
   ],
   "source": [
    "#relabel the result become 1 and 0\n",
    "le = LabelEncoder()\n",
    "data_MC1['Machine result'] = le.fit_transform(data_MC1['Machine result'])\n",
    "data_MC1"
   ]
  },
  {
   "cell_type": "markdown",
   "metadata": {},
   "source": [
    "### Step 3: Outliers Detection"
   ]
  },
  {
   "cell_type": "markdown",
   "metadata": {},
   "source": [
    "Outliers are those that are abnormally high or low compared to other data values, until the upper and lower limits of the data set are exceeded. In fact, boxplots and the interquartile range of the data attributes of the dataset are usually used to detect outliers. If the outliers are not deleted, the outliers may destroy the accuracy, because some models are highly sensitive to outliers, such as K-Nearest Neighbors."
   ]
  },
  {
   "cell_type": "code",
   "execution_count": 27,
   "metadata": {},
   "outputs": [
    {
     "name": "stderr",
     "output_type": "stream",
     "text": [
      "C:\\Users\\ProAdmin\\anaconda3\\lib\\site-packages\\numpy\\core\\_asarray.py:83: VisibleDeprecationWarning: Creating an ndarray from ragged nested sequences (which is a list-or-tuple of lists-or-tuples-or ndarrays with different lengths or shapes) is deprecated. If you meant to do this, you must specify 'dtype=object' when creating the ndarray\n",
      "  return array(a, dtype, copy=False, order=order)\n"
     ]
    },
    {
     "data": {
      "text/plain": [
       "<matplotlib.axes._subplots.AxesSubplot at 0x278e2eac388>"
      ]
     },
     "execution_count": 27,
     "metadata": {},
     "output_type": "execute_result"
    },
    {
     "data": {
      "image/png": "[encoded data removed]",
      "text/plain": [
       "<Figure size 720x720 with 1 Axes>"
      ]
     },
     "metadata": {
      "needs_background": "light"
     },
     "output_type": "display_data"
    }
   ],
   "source": [
    "plt.subplots(figsize = (10,10))\n",
    "data_MC1.boxplot(patch_artist= True)"
   ]
  },
  {
   "cell_type": "markdown",
   "metadata": {},
   "source": [
    "From the box plot above, we can see that there are no outliers in (um)Point2 and (um)Point4. (um)Point1 and (um)Point3 have a few outliers, and (um)Point5 has the most outliers."
   ]
  },
  {
   "cell_type": "markdown",
   "metadata": {},
   "source": [
    "### Step 4: Removing outliers"
   ]
  },
  {
   "cell_type": "markdown",
   "metadata": {},
   "source": [
    "The interquartile range method is used to remove outliers. The formula is ( outlier < lower limit (lower limit = first quartile - 1.5 * interquartile range) and outlier > upper limit (upper limit = third quartile + 1.5 * interquartile range))."
   ]
  },
  {
   "cell_type": "code",
   "execution_count": 28,
   "metadata": {},
   "outputs": [
    {
     "name": "stdout",
     "output_type": "stream",
     "text": [
      "Row left: 231840\n"
     ]
    }
   ],
   "source": [
    "for col in ['(um)Point1','(um)Point2','(um)Point3','(um)Point4','(um)Point5']:\n",
    "    Q1 = data_MC1[col].quantile(0.25)\n",
    "    Q3 = data_MC1[col].quantile(0.75)\n",
    "    interQR = Q3 - Q1\n",
    "\n",
    "    data_MC1 = data_MC1[~((data_MC1[col] < (Q1-1.5*interQR)) | (data_MC1[col] > (Q3+1.5*interQR)))]\n",
    "\n",
    "#display rows remaining after removing outliers\n",
    "print(\"Row left:\",data_MC1.shape[0])"
   ]
  },
  {
   "cell_type": "markdown",
   "metadata": {},
   "source": [
    "After removing the outliers, there are only 231840 rows left after removing the outliers. The diagram showing the dataset after removing outliers."
   ]
  },
  {
   "cell_type": "code",
   "execution_count": 29,
   "metadata": {},
   "outputs": [
    {
     "name": "stderr",
     "output_type": "stream",
     "text": [
      "C:\\Users\\ProAdmin\\anaconda3\\lib\\site-packages\\numpy\\core\\_asarray.py:83: VisibleDeprecationWarning: Creating an ndarray from ragged nested sequences (which is a list-or-tuple of lists-or-tuples-or ndarrays with different lengths or shapes) is deprecated. If you meant to do this, you must specify 'dtype=object' when creating the ndarray\n",
      "  return array(a, dtype, copy=False, order=order)\n"
     ]
    },
    {
     "data": {
      "text/plain": [
       "<matplotlib.axes._subplots.AxesSubplot at 0x278e2795fc8>"
      ]
     },
     "execution_count": 29,
     "metadata": {},
     "output_type": "execute_result"
    },
    {
     "data": {
      "image/png": "[encoded data removed]",
      "text/plain": [
       "<Figure size 720x720 with 1 Axes>"
      ]
     },
     "metadata": {
      "needs_background": "light"
     },
     "output_type": "display_data"
    }
   ],
   "source": [
    "plt.subplots(figsize = (10,10))\n",
    "data_MC1.boxplot(patch_artist= True)"
   ]
  },
  {
   "cell_type": "markdown",
   "metadata": {},
   "source": [
    "### Step 5: Filling in missing values"
   ]
  },
  {
   "cell_type": "markdown",
   "metadata": {},
   "source": [
    "There are four methods that can be used in filling in missing values, which are fill up with 0, mean value, median value and absolute value."
   ]
  },
  {
   "cell_type": "code",
   "execution_count": 30,
   "metadata": {},
   "outputs": [],
   "source": [
    "#fill with 0\n",
    "data = data_MC1.fillna(0)\n",
    "#fill with Median\n",
    "data = data_MC1.fillna(data_MC1.median())\n",
    "#fill with absolute\n",
    "data = data_MC1.fillna(data_MC1.mean()).abs()\n",
    "#fill with Mean\n",
    "data = data_MC1.fillna(data_MC1.mean())"
   ]
  },
  {
   "cell_type": "markdown",
   "metadata": {},
   "source": [
    "### Step 6: Feature and targeting"
   ]
  },
  {
   "cell_type": "markdown",
   "metadata": {},
   "source": [
    "After that, The (um)Point1, (um)Point2, (um)Point3, (um)Point4, (um)Point5 columns are selected as the features and 'Machine result' column as the target."
   ]
  },
  {
   "cell_type": "code",
   "execution_count": 31,
   "metadata": {},
   "outputs": [],
   "source": [
    "#drop the machine result column\n",
    "x = data.drop('Machine result', axis=1) #all the point data : feature\n",
    "y = le.fit_transform(data['Machine result'])  #array with value 1 and 0 : label"
   ]
  },
  {
   "cell_type": "markdown",
   "metadata": {},
   "source": [
    "### Step 7: Fix imbalance data"
   ]
  },
  {
   "cell_type": "markdown",
   "metadata": {},
   "source": [
    "Since the machine results in the data set are not balanced by RandomUnderSampler, it will be used to balance the number of data between the machine result \"OK\" and \"NG\"."
   ]
  },
  {
   "cell_type": "code",
   "execution_count": 32,
   "metadata": {},
   "outputs": [],
   "source": [
    "rus = RandomUnderSampler(random_state=42, replacement=True)\n",
    "x_rus, y_rus = rus.fit_resample(x,y)"
   ]
  },
  {
   "cell_type": "markdown",
   "metadata": {},
   "source": [
    "### Step 8: Dataset grouping"
   ]
  },
  {
   "cell_type": "markdown",
   "metadata": {},
   "source": [
    "The data set should be divided into two parts, one of the larger part is used as the training data set, and the smaller part is used as the test data set. This is because the training model requires the training data set to understand the target based on features, and the test data set needs to determine the accuracy and mean square error of the model. In this case, the training data set is set to contain 80% of the data set, and the test data set will get the remaining 20%."
   ]
  },
  {
   "cell_type": "code",
   "execution_count": 33,
   "metadata": {},
   "outputs": [],
   "source": [
    "# Split the dataset into 80% train & 20% test\n",
    "xtrain_data, xtest_data, ytrain_data, ytest_data = train_test_split(x, y, test_size=0.2, random_state=42)\n",
    "rus_xtrain_data, rus_xtest_data, rus_ytrain_data, rus_ytest_data = train_test_split(x_rus, y_rus, test_size=0.2, random_state=42)"
   ]
  },
  {
   "cell_type": "markdown",
   "metadata": {},
   "source": [
    "## ANN Preprocessing"
   ]
  },
  {
   "cell_type": "markdown",
   "metadata": {},
   "source": [
    "On the other hand, there are slightly different Artificial for Neural Network(ANN) preprocessing parts. The reason is because the condition of the ANN dataset cannot contain “NaN” value, all the dataset must be in array form by following the sequence accordingly. By importing sklearn preprocessing library with combination of this scaling function, the dataset will become clean and tidy. "
   ]
  },
  {
   "cell_type": "code",
   "execution_count": 34,
   "metadata": {},
   "outputs": [
    {
     "data": {
      "text/plain": [
       "array([[0.61833902, 0.66139155, 0.68591692, 0.63810859, 0.45990361],\n",
       "       [0.61729238, 0.66046999, 0.6768135 , 0.63104016, 0.45990361],\n",
       "       [0.63290102, 0.67070245, 0.67549789, 0.62916641, 0.45990361],\n",
       "       ...,\n",
       "       [0.61979522, 0.66205888, 0.63196177, 0.61167814, 0.45990361],\n",
       "       [0.61880925, 0.66012044, 0.63481982, 0.62295107, 0.45990361],\n",
       "       [0.61849071, 0.66145511, 0.63444177, 0.62384986, 0.45990361]])"
      ]
     },
     "execution_count": 34,
     "metadata": {},
     "output_type": "execute_result"
    }
   ],
   "source": [
    "min_max_scaler = preprocessing.MinMaxScaler()\n",
    "x_scale = min_max_scaler.fit_transform(x_rus)\n",
    "\n",
    "x_scale"
   ]
  },
  {
   "cell_type": "markdown",
   "metadata": {},
   "source": [
    "Moreover, a normal machine learning model just requires two sets of preprocessed data, which is test data and train data. But the neural network model requires one additional data, which is validation data. The purpose of having validation data is to do cross-validation checks to prevent the overfitting  problem occurring. "
   ]
  },
  {
   "cell_type": "code",
   "execution_count": 35,
   "metadata": {},
   "outputs": [
    {
     "name": "stdout",
     "output_type": "stream",
     "text": [
      "(12762, 5) (2735, 5) (2735, 5) (12762,) (2735,) (2735,)\n"
     ]
    }
   ],
   "source": [
    "# # Split the dataset into 80% train & 20% test\n",
    "ann_xtrain_data, ann_x_val_and_test, ann_ytrain_data, ann_y_val_and_test = train_test_split(x_scale, y_rus, test_size=0.3)\n",
    "ann_xval_data, ann_xtest_data, ann_yval_data, ann_ytest_data = train_test_split(ann_x_val_and_test, ann_y_val_and_test, test_size=0.5)\n",
    "\n",
    "print(ann_xtrain_data.shape, ann_xval_data.shape, ann_xtest_data.shape, ann_ytrain_data.shape, ann_yval_data.shape, ann_ytest_data.shape)"
   ]
  },
  {
   "cell_type": "markdown",
   "metadata": {},
   "source": [
    "Finally, after all the steps of data preparation the dataset becomes clean and is ready to be used in our model to do the data training, prediction and also visualization"
   ]
  },
  {
   "cell_type": "markdown",
   "metadata": {},
   "source": [
    "# Modelling"
   ]
  },
  {
   "cell_type": "markdown",
   "metadata": {},
   "source": [
    "## Modelling Construction"
   ]
  },
  {
   "cell_type": "markdown",
   "metadata": {},
   "source": [
    "In this project, we will separate the data set into a training set and testing set in a ratio of 80:20 by using train_test_split in sklearn.model_selection. The will be 4 different classifier that will be used to train and to test as mentioned below: \n",
    "    1. Artificial Neural Network (ANN)\n",
    "    2. Random Forest Classifier\n",
    "    3. Gaussian Naive Bayes classifier \n",
    "    4. K-nearest neighbor classifier \n"
   ]
  },
  {
   "cell_type": "markdown",
   "metadata": {},
   "source": [
    "## Artificial Neural Network(ANN)"
   ]
  },
  {
   "cell_type": "markdown",
   "metadata": {},
   "source": [
    "ANN is a  type of deep learning technology which is also an artificial intelligence. With the biological concept, ANN follows the structure of the neuron inside our brain (Refer appendix 4). So that it transmits the signal through the synapses by carrying all the data to another neuron. By using ANN as a supervised model to do the classification, at first we have to understand the structure of the neural network while implementing our model (Refer appendix 5). The model consists of at least 3 layers, which are the input layer, hidden layer and also output later. At the input layer, is the initial stage by receiving the given input from the user and there might be more than one input data. Next, there are possible more than one hidden layer based on the user and all the operations are done by the hidden layer. The hidden layer is where the neuron is allocated at, and the number of neurons set by the user. Last output later also has the possibility of more than one output, because whenever predictions happen, there might be more than one possible outcome. \n"
   ]
  },
  {
   "cell_type": "code",
   "execution_count": 36,
   "metadata": {},
   "outputs": [],
   "source": [
    "# Define Sequential model with 3 layers (layer by layer)\n",
    "\n",
    "model = keras.Sequential([\n",
    "        layers.Dense(8, activation='relu', input_shape=(5,)),\n",
    "        layers.Dense(1, activation='sigmoid'),\n",
    "])"
   ]
  },
  {
   "cell_type": "code",
   "execution_count": 37,
   "metadata": {},
   "outputs": [],
   "source": [
    "model.compile(optimizer='sgd',\n",
    "              loss='binary_crossentropy',\n",
    "              metrics=['accuracy'])"
   ]
  },
  {
   "cell_type": "code",
   "execution_count": 38,
   "metadata": {},
   "outputs": [
    {
     "name": "stdout",
     "output_type": "stream",
     "text": [
      "Epoch 1/10\n",
      "1277/1277 - 3s - loss: 0.6828 - accuracy: 0.5995 - val_loss: 0.6741 - val_accuracy: 0.6201\n",
      "Epoch 2/10\n",
      "1277/1277 - 2s - loss: 0.6684 - accuracy: 0.6066 - val_loss: 0.6628 - val_accuracy: 0.6066\n",
      "Epoch 3/10\n",
      "1277/1277 - 2s - loss: 0.6585 - accuracy: 0.6023 - val_loss: 0.6555 - val_accuracy: 0.6106\n",
      "Epoch 4/10\n",
      "1277/1277 - 2s - loss: 0.6522 - accuracy: 0.5999 - val_loss: 0.6516 - val_accuracy: 0.6000\n",
      "Epoch 5/10\n",
      "1277/1277 - 2s - loss: 0.6486 - accuracy: 0.5997 - val_loss: 0.6483 - val_accuracy: 0.6073\n",
      "Epoch 6/10\n",
      "1277/1277 - 2s - loss: 0.6469 - accuracy: 0.5988 - val_loss: 0.6466 - val_accuracy: 0.6040\n",
      "Epoch 7/10\n",
      "1277/1277 - 2s - loss: 0.6455 - accuracy: 0.5993 - val_loss: 0.6457 - val_accuracy: 0.6037\n",
      "Epoch 8/10\n",
      "1277/1277 - 2s - loss: 0.6443 - accuracy: 0.5987 - val_loss: 0.6453 - val_accuracy: 0.6029\n",
      "Epoch 9/10\n",
      "1277/1277 - 2s - loss: 0.6441 - accuracy: 0.5987 - val_loss: 0.6462 - val_accuracy: 0.6091\n",
      "Epoch 10/10\n",
      "1277/1277 - 2s - loss: 0.6431 - accuracy: 0.5997 - val_loss: 0.6490 - val_accuracy: 0.5923\n"
     ]
    }
   ],
   "source": [
    "hist = model.fit(ann_xtrain_data, ann_ytrain_data,\n",
    "          batch_size=10, epochs=10,\n",
    "          validation_data=(ann_xval_data, ann_yval_data), verbose=2)"
   ]
  },
  {
   "cell_type": "code",
   "execution_count": 39,
   "metadata": {},
   "outputs": [
    {
     "name": "stdout",
     "output_type": "stream",
     "text": [
      "86/86 [==============================] - 0s 2ms/step - loss: 0.6526 - accuracy: 0.5656\n"
     ]
    },
    {
     "data": {
      "text/plain": [
       "0.5656307339668274"
      ]
     },
     "execution_count": 39,
     "metadata": {},
     "output_type": "execute_result"
    }
   ],
   "source": [
    "model.evaluate(ann_xtest_data, ann_ytest_data)[1]\n"
   ]
  },
  {
   "cell_type": "code",
   "execution_count": 40,
   "metadata": {},
   "outputs": [
    {
     "name": "stdout",
     "output_type": "stream",
     "text": [
      "86/86 [==============================] - 0s 2ms/step - loss: 0.6526 - accuracy: 0.5656\n",
      "[0.6526418328285217, 0.5656307339668274]\n"
     ]
    }
   ],
   "source": [
    "score = model.evaluate(ann_xtest_data, ann_ytest_data,verbose=1)\n",
    "\n",
    "print(score)"
   ]
  },
  {
   "cell_type": "markdown",
   "metadata": {},
   "source": [
    "# Visualizing Loss and Accuracy"
   ]
  },
  {
   "cell_type": "code",
   "execution_count": 41,
   "metadata": {},
   "outputs": [
    {
     "data": {
      "image/png": "[encoded data removed]",
      "text/plain": [
       "<Figure size 432x288 with 1 Axes>"
      ]
     },
     "metadata": {
      "needs_background": "light"
     },
     "output_type": "display_data"
    }
   ],
   "source": [
    "plt.plot(hist.history['loss'])\n",
    "plt.plot(hist.history['val_loss'])\n",
    "plt.title('Model loss')\n",
    "plt.ylabel('Loss')\n",
    "plt.xlabel('Epoch')\n",
    "plt.legend(['Train', 'Val'], loc='upper right')\n",
    "plt.show()"
   ]
  },
  {
   "cell_type": "markdown",
   "metadata": {},
   "source": [
    "# Display accuracy of ANN"
   ]
  },
  {
   "cell_type": "code",
   "execution_count": 42,
   "metadata": {},
   "outputs": [
    {
     "name": "stdout",
     "output_type": "stream",
     "text": [
      "5796/5796 [==============================] - 15s 3ms/step - loss: 6.5787 - accuracy: 0.9570\n",
      "Mean squared error : 0.0332059232827617\n"
     ]
    }
   ],
   "source": [
    "#load into classifier\n",
    "ann = model #RandomForestClassifier(n_estimators=67)\n",
    "ddd = ann.fit(xtrain_data, ytrain_data)\n",
    "\n",
    "\n",
    "y_pred = ann.predict(xtest_data)\n",
    "\n",
    "print(\"Mean squared error :\", mean_squared_error(ytest_data, y_pred)) "
   ]
  },
  {
   "cell_type": "markdown",
   "metadata": {},
   "source": [
    "## Random Forest Classifier (RFC)"
   ]
  },
  {
   "cell_type": "markdown",
   "metadata": {},
   "source": [
    "random forest classifier is a supervised classification algorithm which can be used for classification and regression kind of problems. This model is learned through the integration of many decision trees. Each decision tree has different splitting methods (according to different feature subsets, this kind of integrated learning is also called feature subset bagging algorithm). The focus of random forest is sampling, and the sampling method is random. With randomness, the results of the tree will be diverse, and there will be multiple results, which will be more accurate when combined. The sample sampling design of random forest is to adopt the method of sampling and returning, that is, after the same sample is selected, it may still be selected the next time. A sample may be selected many times, or may not be selected. Finally, these different decision trees are voted on to get the final result.\n"
   ]
  },
  {
   "cell_type": "code",
   "execution_count": 43,
   "metadata": {},
   "outputs": [
    {
     "name": "stdout",
     "output_type": "stream",
     "text": [
      "Mean squared error : 0.031314699792960664\n",
      "Precision score : 0.9699328449328449\n",
      "Accuracy score : 0.9686853002070394\n",
      "Recall score : 0.9983616858925446\n",
      "F1 score : 0.9839419610271836\n",
      "              precision    recall  f1-score   support\n",
      "\n",
      "           0       0.86      0.24      0.37      1810\n",
      "           1       0.97      1.00      0.98     44558\n",
      "\n",
      "    accuracy                           0.97     46368\n",
      "   macro avg       0.91      0.62      0.68     46368\n",
      "weighted avg       0.97      0.97      0.96     46368\n",
      "\n"
     ]
    }
   ],
   "source": [
    "#load into classifier\n",
    "rfc = RandomForestClassifier(n_estimators=67)\n",
    "rfc.fit(xtrain_data, ytrain_data)\n",
    "\n",
    "\n",
    "y_pred = rfc.predict(xtest_data)\n",
    "rfc_mse = mean_squared_error(ytest_data, y_pred)\n",
    "rfc_pre = precision_score(ytest_data, y_pred)\n",
    "rfc_acc = accuracy_score(ytest_data, y_pred)\n",
    "rfc_rec = recall_score(ytest_data, y_pred)\n",
    "rfc_f1s = f1_score(ytest_data, y_pred)\n",
    "\n",
    "print(\"Mean squared error :\", rfc_mse) \n",
    "print(\"Precision score :\", rfc_pre)\n",
    "print(\"Accuracy score :\", rfc_acc)\n",
    "print(\"Recall score :\", rfc_rec)  \n",
    "print(\"F1 score :\", rfc_f1s)\n",
    "print(classification_report(ytest_data, y_pred))"
   ]
  },
  {
   "cell_type": "markdown",
   "metadata": {},
   "source": [
    "## Gaussian Naive Bayes (GNB)"
   ]
  },
  {
   "cell_type": "markdown",
   "metadata": {},
   "source": [
    "It is machine learning classification algorithms in the supervised learning category based on the Bayes theorem. It can be considered a very simple classification technique but however, it has a very high funtiantionality. Normally Bayes theorem can be used to calculate conditional probability. This classifier can be used and applied to many real life situations such as text classification, sentiment analysis and so on.  Naive bayes is a very easy to build compared to other models or classifiers, and especially useful for very large data sets. It is known to outperform even highly sophisticated classification methods. Although it is easy to build, there are still pros and cons respectively of easy and fast to predict class of test data set, and also the probability outputs by using predict_proba are not to be taken too seriously as it might not be significantly accurate."
   ]
  },
  {
   "cell_type": "code",
   "execution_count": 44,
   "metadata": {},
   "outputs": [
    {
     "name": "stdout",
     "output_type": "stream",
     "text": [
      "Mean squared error : 0.04742494824016563\n",
      "Precision score : 0.9610152151672797\n",
      "Accuracy score : 0.9525750517598344\n",
      "Recall score : 0.9908433951254545\n",
      "F1 score : 0.975701388965624\n",
      "              precision    recall  f1-score   support\n",
      "\n",
      "           0       0.04      0.01      0.02      1810\n",
      "           1       0.96      0.99      0.98     44558\n",
      "\n",
      "    accuracy                           0.95     46368\n",
      "   macro avg       0.50      0.50      0.50     46368\n",
      "weighted avg       0.93      0.95      0.94     46368\n",
      "\n"
     ]
    }
   ],
   "source": [
    "gnb = GaussianNB()\n",
    "gnb.fit(xtrain_data, ytrain_data)\n",
    "\n",
    "gnb_y_pred = gnb.predict(xtest_data)\n",
    "gnb_mse = mean_squared_error(ytest_data, gnb_y_pred)\n",
    "gnb_pre = precision_score(ytest_data, gnb_y_pred)\n",
    "gnb_acc = accuracy_score(ytest_data, gnb_y_pred)\n",
    "gnb_rec = recall_score(ytest_data, gnb_y_pred)\n",
    "gnb_f1s = f1_score(ytest_data, gnb_y_pred)\n",
    "\n",
    "\n",
    "print(\"Mean squared error :\", gnb_mse) \n",
    "print(\"Precision score :\", gnb_pre)\n",
    "print(\"Accuracy score :\", gnb_acc)\n",
    "print(\"Recall score :\", gnb_rec)  \n",
    "print(\"F1 score :\", gnb_f1s)\n",
    "print(classification_report(ytest_data, gnb_y_pred))"
   ]
  },
  {
   "cell_type": "markdown",
   "metadata": {},
   "source": [
    "## Gaussian Naive Bayes resample"
   ]
  },
  {
   "cell_type": "code",
   "execution_count": 45,
   "metadata": {},
   "outputs": [
    {
     "name": "stdout",
     "output_type": "stream",
     "text": [
      "Mean squared error : 0.4129421442281327\n",
      "Precision score : 0.6587225929456625\n",
      "Accuracy score : 0.5870578557718673\n",
      "Recall score : 0.37574768896139205\n",
      "F1 score : 0.47853185595567865\n",
      "              precision    recall  f1-score   support\n",
      "\n",
      "           0       0.56      0.80      0.66      1808\n",
      "           1       0.66      0.38      0.48      1839\n",
      "\n",
      "    accuracy                           0.59      3647\n",
      "   macro avg       0.61      0.59      0.57      3647\n",
      "weighted avg       0.61      0.59      0.57      3647\n",
      "\n"
     ]
    }
   ],
   "source": [
    "gnb = GaussianNB()\n",
    "gnb.fit(rus_xtrain_data, rus_ytrain_data)\n",
    "\n",
    "rus_gnb_y_pred = gnb.predict(rus_xtest_data)\n",
    "\n",
    "rus_gnb_mse = mean_squared_error(rus_ytest_data, rus_gnb_y_pred)\n",
    "rus_gnb_pre = precision_score(rus_ytest_data, rus_gnb_y_pred)\n",
    "rus_gnb_acc = accuracy_score(rus_ytest_data, rus_gnb_y_pred)\n",
    "rus_gnb_rec = recall_score(rus_ytest_data, rus_gnb_y_pred)\n",
    "rus_gnb_f1s = f1_score(rus_ytest_data, rus_gnb_y_pred)\n",
    "\n",
    "\n",
    "print(\"Mean squared error :\", rus_gnb_mse) \n",
    "print(\"Precision score :\", rus_gnb_pre)\n",
    "print(\"Accuracy score :\", rus_gnb_acc)\n",
    "print(\"Recall score :\", rus_gnb_rec)  \n",
    "print(\"F1 score :\", rus_gnb_f1s)\n",
    "print(classification_report(rus_ytest_data, rus_gnb_y_pred))"
   ]
  },
  {
   "cell_type": "markdown",
   "metadata": {},
   "source": [
    "# K-Nearest Neighbors"
   ]
  },
  {
   "cell_type": "markdown",
   "metadata": {},
   "source": [
    "Besides, the K-nearest neighbor (KNN) classifier is one of the most popular algorithms in machine learning.  KNN is very simple and easy-to-implement as a supervised machine learning algorithm. It can be used for 2 purposes which are solving classification and regression problems. Normally a supervised machine learning algorithm relies on labeled input data to learn and train while it will try to produce an output when there is new unlabeled data. Using K-Nearest Neighbour, we predict the category of the test point from the available class labels by finding the distance between the test point and trained k nearest feature values. By selecting an optimal K value will be able to achieve the maximum accuracy of the model.We will use the scikit-learn library to implement the KNN algorithm."
   ]
  },
  {
   "cell_type": "code",
   "execution_count": 46,
   "metadata": {},
   "outputs": [
    {
     "name": "stdout",
     "output_type": "stream",
     "text": [
      "Optimal K is 15\n"
     ]
    }
   ],
   "source": [
    "#set the range from 1 to 40 and increments the step by 2\n",
    "k_values = [i for i in range(1,40,2)]\n",
    "#Empty array\n",
    "k_acc_scores = []\n",
    "\n",
    "for k in k_values:\n",
    "    #To set the number of neighbors to use for kneighbors queries and using all processors to run for neighbors search.\n",
    "    #Evaluate a score by cross-validation\n",
    "    #To adds a single item to the existing list\n",
    "    knn = KNeighborsClassifier(n_neighbors = k, n_jobs= -1)    \n",
    "    cv_scores = cross_val_score(knn, xtrain_data, ytrain_data, cv=5, scoring=\"accuracy\")    \n",
    "    k_acc_scores.append(cv_scores.mean())\n",
    "    \n",
    "#To get the best value of K \n",
    "optimal_k =k_values[k_acc_scores.index(max(k_acc_scores))]\n",
    "print(\"Optimal K is {}\".format(optimal_k))"
   ]
  },
  {
   "cell_type": "code",
   "execution_count": 47,
   "metadata": {},
   "outputs": [
    {
     "data": {
      "text/plain": [
       "<function matplotlib.pyplot.show(*args, **kw)>"
      ]
     },
     "execution_count": 47,
     "metadata": {},
     "output_type": "execute_result"
    },
    {
     "data": {
      "image/png": "[encoded data removed]",
      "text/plain": [
       "<Figure size 432x288 with 1 Axes>"
      ]
     },
     "metadata": {
      "needs_background": "light"
     },
     "output_type": "display_data"
    }
   ],
   "source": [
    "#Plot k_values(X) and k_acc_scores(Y) using default line style and color\n",
    "#Display all open figures\n",
    "plt.plot(k_values, k_acc_scores)\n",
    "plt.xlabel(\"K\")\n",
    "plt.ylabel(\"Accuracy\")\n",
    "plt.show"
   ]
  },
  {
   "cell_type": "code",
   "execution_count": 48,
   "metadata": {},
   "outputs": [
    {
     "name": "stdout",
     "output_type": "stream",
     "text": [
      "Mean squared error : 0.03135783298826777\n",
      "Precision score : 0.9688070999738971\n",
      "Accuracy score : 0.9686421670117322\n",
      "Recall score : 0.9995511468198752\n",
      "F1 score : 0.9839390257373246\n",
      "              precision    recall  f1-score   support\n",
      "\n",
      "           0       0.95      0.21      0.34      1810\n",
      "           1       0.97      1.00      0.98     44558\n",
      "\n",
      "    accuracy                           0.97     46368\n",
      "   macro avg       0.96      0.60      0.66     46368\n",
      "weighted avg       0.97      0.97      0.96     46368\n",
      "\n",
      "[[  376  1434]\n",
      " [   20 44538]]\n"
     ]
    }
   ],
   "source": [
    "#Fit the k-nearest neighbors classifier from the training dataset.\n",
    "#Predict the class labels with the xtest_data.\n",
    "knn.fit(xtrain_data, ytrain_data)\n",
    "\n",
    "\n",
    "knn_y_pred = knn.predict(xtest_data)\n",
    "knn_mse = mean_squared_error(ytest_data, knn_y_pred)\n",
    "knn_pre = precision_score(ytest_data, knn_y_pred)\n",
    "knn_acc = accuracy_score(ytest_data, knn_y_pred)\n",
    "knn_rec = recall_score(ytest_data, knn_y_pred)\n",
    "knn_f1s = f1_score(ytest_data, knn_y_pred)\n",
    "\n",
    "print(\"Mean squared error :\", knn_mse) \n",
    "print(\"Precision score :\", knn_pre)\n",
    "print(\"Accuracy score :\", knn_acc)\n",
    "print(\"Recall score :\", knn_rec)  \n",
    "print(\"F1 score :\", knn_f1s)\n",
    "print(classification_report(ytest_data, knn_y_pred))\n",
    "print(confusion_matrix(ytest_data, knn_y_pred))"
   ]
  },
  {
   "cell_type": "markdown",
   "metadata": {},
   "source": [
    "# Evaluation"
   ]
  },
  {
   "cell_type": "markdown",
   "metadata": {},
   "source": [
    "After proper data cleaning and using different models to train the dataset, we found that Artificial Neural Networks are not suitable as the model of this project due to value error mentioned on 4.3 “ValueError: Classification metrics can't handle a mix of binary and continuous targets” and other model result are not better than Random Forest model. In this case, we confirmed that the Random Forest Classifier model is the best model for this data as it gives the highest accuracy, recall and precision among the other models."
   ]
  },
  {
   "cell_type": "markdown",
   "metadata": {},
   "source": [
    "### Evaluate table"
   ]
  },
  {
   "cell_type": "code",
   "execution_count": 49,
   "metadata": {},
   "outputs": [
    {
     "data": {
      "text/html": [
       "<div>\n",
       "<style scoped>\n",
       "    .dataframe tbody tr th:only-of-type {\n",
       "        vertical-align: middle;\n",
       "    }\n",
       "\n",
       "    .dataframe tbody tr th {\n",
       "        vertical-align: top;\n",
       "    }\n",
       "\n",
       "    .dataframe thead th {\n",
       "        text-align: right;\n",
       "    }\n",
       "</style>\n",
       "<table border=\"1\" class=\"dataframe\">\n",
       "  <thead>\n",
       "    <tr style=\"text-align: right;\">\n",
       "      <th></th>\n",
       "      <th>Model</th>\n",
       "      <th>Precision</th>\n",
       "      <th>Accuracy</th>\n",
       "      <th>Recall</th>\n",
       "      <th>F1 Score</th>\n",
       "    </tr>\n",
       "  </thead>\n",
       "  <tbody>\n",
       "    <tr>\n",
       "      <th>0</th>\n",
       "      <td>Random Forest Classifier</td>\n",
       "      <td>0.9699</td>\n",
       "      <td>0.9687</td>\n",
       "      <td>0.9984</td>\n",
       "      <td>0.9839</td>\n",
       "    </tr>\n",
       "    <tr>\n",
       "      <th>1</th>\n",
       "      <td>Gaussian Naive Bayes</td>\n",
       "      <td>0.9610</td>\n",
       "      <td>0.9526</td>\n",
       "      <td>0.9908</td>\n",
       "      <td>0.9757</td>\n",
       "    </tr>\n",
       "    <tr>\n",
       "      <th>2</th>\n",
       "      <td>K-Nearest Neighbors</td>\n",
       "      <td>0.9688</td>\n",
       "      <td>0.9686</td>\n",
       "      <td>0.9996</td>\n",
       "      <td>0.9839</td>\n",
       "    </tr>\n",
       "  </tbody>\n",
       "</table>\n",
       "</div>"
      ],
      "text/plain": [
       "                      Model Precision Accuracy  Recall F1 Score\n",
       "0  Random Forest Classifier    0.9699   0.9687  0.9984   0.9839\n",
       "1      Gaussian Naive Bayes    0.9610   0.9526  0.9908   0.9757\n",
       "2       K-Nearest Neighbors    0.9688   0.9686  0.9996   0.9839"
      ]
     },
     "execution_count": 49,
     "metadata": {},
     "output_type": "execute_result"
    }
   ],
   "source": [
    "evaluate_table = pd.DataFrame({\n",
    "    'Model': ['Random Forest Classifier', 'Gaussian Naive Bayes', 'K-Nearest Neighbors'],\n",
    "    'Precision': [\"%.4f\"%rfc_pre, \"%.4f\"%gnb_pre, \"%.4f\"%knn_pre],\n",
    "    'Accuracy': [\"%.4f\"%rfc_acc, \"%.4f\"%gnb_acc, \"%.4f\"%knn_acc],\n",
    "    'Recall': [\"%.4f\"%rfc_rec, \"%.4f\"%gnb_rec, \"%.4f\"%knn_rec],\n",
    "    'F1 Score': [\"%.4f\"%rfc_f1s, \"%.4f\"%gnb_f1s, \"%.4f\"%knn_f1s]})\n",
    "\n",
    "evaluate_table"
   ]
  },
  {
   "cell_type": "markdown",
   "metadata": {},
   "source": [
    "### Evaluate graph"
   ]
  },
  {
   "cell_type": "code",
   "execution_count": 50,
   "metadata": {},
   "outputs": [
    {
     "data": {
      "image/png": "[encoded data removed]",
      "text/plain": [
       "<Figure size 1008x432 with 1 Axes>"
      ]
     },
     "metadata": {
      "needs_background": "light"
     },
     "output_type": "display_data"
    }
   ],
   "source": [
    "plt.subplots(figsize = (14,6))\n",
    "N = 3\n",
    "ind = np.arange(N) \n",
    "width = 0.20\n",
    "\n",
    "#mse_list = [rfc_mse, gnb_mse, knn_mse]\n",
    "#bar1 = plt.bar(ind+width, mse_list, 0.2, color = 'brown')\n",
    "\n",
    "pre_list = [rfc_pre, gnb_pre, knn_pre]\n",
    "bar2 = plt.bar(ind+width*2, pre_list, 0.2, color = 'blue')\n",
    "\n",
    "acc_list = [rfc_acc, gnb_acc, knn_acc]\n",
    "bar3 = plt.bar(ind+width*3, acc_list, 0.2, color = 'green')\n",
    "\n",
    "rec_list = [rfc_rec, gnb_rec, knn_rec]\n",
    "bar4 = plt.bar(ind+width*4, rec_list, 0.2, color = 'yellow')\n",
    "\n",
    "f1s_list = [rfc_f1s, gnb_f1s, knn_f1s]\n",
    "bar5 = plt.bar(ind+width*5, f1s_list, 0.2, color = 'red')\n",
    "\n",
    "plt.xlabel(\"Models\")\n",
    "plt.ylabel('Scores')\n",
    "plt.title(\"Model Scores Comparison\")\n",
    "  \n",
    "plt.xticks(ind+width*3, ['Random Forest Classifier', 'Gaussian Naive Bayes','K-Nearest Neighbors'])\n",
    "plt.legend( (bar2, bar3, bar4, bar5), ('Precision', 'Accuracy',  'Recall', 'F1 Score'),bbox_to_anchor=(1.05, 1),loc='upper left' )\n",
    "plt.show()"
   ]
  },
  {
   "cell_type": "markdown",
   "metadata": {},
   "source": [
    "### The best model"
   ]
  },
  {
   "cell_type": "code",
   "execution_count": 51,
   "metadata": {},
   "outputs": [
    {
     "name": "stdout",
     "output_type": "stream",
     "text": [
      "              precision    recall  f1-score   support\n",
      "\n",
      "           0       0.86      0.24      0.37      1810\n",
      "           1       0.97      1.00      0.98     44558\n",
      "\n",
      "    accuracy                           0.97     46368\n",
      "   macro avg       0.91      0.62      0.68     46368\n",
      "weighted avg       0.97      0.97      0.96     46368\n",
      "\n"
     ]
    }
   ],
   "source": [
    "print(classification_report(ytest_data, y_pred))"
   ]
  },
  {
   "cell_type": "markdown",
   "metadata": {},
   "source": [
    "### The worst model"
   ]
  },
  {
   "cell_type": "code",
   "execution_count": 52,
   "metadata": {},
   "outputs": [
    {
     "name": "stdout",
     "output_type": "stream",
     "text": [
      "              precision    recall  f1-score   support\n",
      "\n",
      "           0       0.04      0.01      0.02      1810\n",
      "           1       0.96      0.99      0.98     44558\n",
      "\n",
      "    accuracy                           0.95     46368\n",
      "   macro avg       0.50      0.50      0.50     46368\n",
      "weighted avg       0.93      0.95      0.94     46368\n",
      "\n"
     ]
    }
   ],
   "source": [
    "print(classification_report(ytest_data, gnb_y_pred))"
   ]
  },
  {
   "cell_type": "markdown",
   "metadata": {},
   "source": [
    "# Deployment"
   ]
  },
  {
   "cell_type": "markdown",
   "metadata": {},
   "source": [
    "Choosing appropriate modelling is very important to predict the machine failure rate. The purpose is to help us to understand more about the machine down time, optimize the operation so that with this project, we can reduce the machine down time. In this case, Hotayi companies are able to take immediate decisions such as optimizing the operation in time as a prevention of machine down. Among the four models that we have constructed, we decide to select the Random Forest classifier as the deployment model. Based on the evaluation, we can see that Random Forest has the highest values for the precision, accuracy and F1 score. "
   ]
  },
  {
   "cell_type": "markdown",
   "metadata": {},
   "source": [
    "### Save the best model"
   ]
  },
  {
   "cell_type": "code",
   "execution_count": 53,
   "metadata": {},
   "outputs": [],
   "source": [
    "with open(\"best_RFC_Model.pkl\", 'wb') as file:\n",
    "    pickle.dump(rfc, file)"
   ]
  },
  {
   "cell_type": "markdown",
   "metadata": {},
   "source": [
    "### Load the best model"
   ]
  },
  {
   "cell_type": "code",
   "execution_count": 54,
   "metadata": {},
   "outputs": [
    {
     "data": {
      "text/plain": [
       "RandomForestClassifier(n_estimators=67)"
      ]
     },
     "execution_count": 54,
     "metadata": {},
     "output_type": "execute_result"
    }
   ],
   "source": [
    "#trying to load the KNN model back from pickle file\n",
    "with open(\"best_RFC_Model.pkl\", 'rb') as file:  \n",
    "    prediction_model = pickle.load(file)\n",
    "\n",
    "prediction_model"
   ]
  },
  {
   "cell_type": "markdown",
   "metadata": {},
   "source": [
    "### Show the model accuracy"
   ]
  },
  {
   "cell_type": "code",
   "execution_count": 55,
   "metadata": {},
   "outputs": [
    {
     "name": "stdout",
     "output_type": "stream",
     "text": [
      "The accuracy is 96.87 %\n"
     ]
    }
   ],
   "source": [
    "pred_y = prediction_model.predict(xtest_data)\n",
    "\n",
    "accuracy = accuracy_score(ytest_data, pred_y) * 100\n",
    "print(\"The accuracy is %.2f\"%accuracy,\"%\")"
   ]
  },
  {
   "cell_type": "markdown",
   "metadata": {},
   "source": [
    "### Prediction"
   ]
  },
  {
   "cell_type": "code",
   "execution_count": 56,
   "metadata": {},
   "outputs": [],
   "source": [
    "def prediction(P1, P2, P3, P4, P5):\n",
    "    if P1=='':\n",
    "        P1=0\n",
    "    if P2=='':\n",
    "        P2=0\n",
    "    if P3=='':\n",
    "        P3=0\n",
    "    if P4=='':\n",
    "        P4=0\n",
    "    if P5=='':\n",
    "        P5=0\n",
    "        \n",
    "    result = prediction_model.predict([[P1, P2, P3, P4, P5]])\n",
    "    \n",
    "    if result == [0]:\n",
    "        return 'NG'\n",
    "    else:\n",
    "        return 'OK'   "
   ]
  },
  {
   "cell_type": "code",
   "execution_count": 61,
   "metadata": {},
   "outputs": [
    {
     "name": "stdout",
     "output_type": "stream",
     "text": [
      "Enter the Point 1 :22\n",
      "Enter the Point 2 :13\n",
      "Enter the Point 3 :12\n",
      "Enter the Point 4 :24\n",
      "Enter the Point 5 :11\n",
      "Predicted Machine Result: OK\n"
     ]
    }
   ],
   "source": [
    "#get the input\n",
    "P1 = input(\"Enter the Point 1 :\")\n",
    "P2 = input(\"Enter the Point 2 :\")\n",
    "P3 = input(\"Enter the Point 3 :\")\n",
    "P4 = input(\"Enter the Point 4 :\")\n",
    "P5 = input(\"Enter the Point 5 :\")\n",
    "\n",
    "result = prediction(P1, P2, P3, P4, P5)\n",
    "print('Predicted Machine Result:', result)\n",
    "\n",
    "#NG=5.9  1.3  38.4  303.6  4.3\n",
    "#OK=7.6  7.1  22.2  -17.8  2.6\n"
   ]
  },
  {
   "cell_type": "markdown",
   "metadata": {},
   "source": [
    "# Conclusion"
   ]
  },
  {
   "cell_type": "markdown",
   "metadata": {},
   "source": [
    "In conclusion, the best model to use for this database is the Random Forest Classifier module. It is best to be applied compared to other 3 types of modelling with using AOI dataset. With using one set from AOI, Random Forest Classifier has the best accuracy and precision out of 4 modelling. Besides, AOI dataset does have some missing value on some columns which will cause error on some classifiers but however, random forest classifier is able to automatically handle the missing values. This classifier is one of the easiest to implement and be used. Random forest builds multiple decision trees and merges them together to get a more accurate and stable prediction. It will create as many trees on the subset of the data and combine all the output of these trees so that it will not encounter the overfitting problem from the decision trees and be accurate in predicting the outcomes of the untrained data. Not only this, the Random Forest algorithm is very stable, even if a new data point is introduced in the dataset, it will not affect much of the model because the data may only affect one or few of the decision tree and very hard to affect all of the tree. Since the AOI dataset can be regarded as a large dataset, Random Forest classifier is the best model compared to other modules because it can handle high dimensional spaces as well as a large number of training examples. Although it can handle large datasets, it may require a longer time period of training as it needs to generate a lot of trees and make decisions on the majority of votes.  Lastly, in future, we will try to increase and enhance the precision and the accuracy of the classifier by applying more training.  \n"
   ]
  }
 ],
 "metadata": {
  "kernelspec": {
   "display_name": "Python 3",
   "language": "python",
   "name": "python3"
  },
  "language_info": {
   "codemirror_mode": {
    "name": "ipython",
    "version": 3
   },
   "file_extension": ".py",
   "mimetype": "text/x-python",
   "name": "python",
   "nbconvert_exporter": "python",
   "pygments_lexer": "ipython3",
   "version": "3.7.6"
  }
 },
 "nbformat": 4,
 "nbformat_minor": 4
}
